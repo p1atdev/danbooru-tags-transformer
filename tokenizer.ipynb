{
 "cells": [
  {
   "cell_type": "code",
   "execution_count": 1,
   "metadata": {},
   "outputs": [],
   "source": [
    "import json"
   ]
  },
  {
   "cell_type": "code",
   "execution_count": 4,
   "metadata": {},
   "outputs": [],
   "source": [
    "def load_tags(path: str):\n",
    "    with open(path, \"r\", encoding=\"utf-8\") as file:\n",
    "        tags_txt = file.read()\n",
    "    tags = tags_txt.split(\"\\n\")\n",
    "    return tags\n",
    "\n",
    "\n",
    "general_general = load_tags(\"./popular-tags/general-general.txt\")\n",
    "general_sensitive = load_tags(\"./popular-tags/general-sensitive.txt\")\n",
    "general_questionable = load_tags(\"./popular-tags/general-questionable.txt\")\n",
    "general_explicit = load_tags(\"./popular-tags/general-explicit.txt\")"
   ]
  },
  {
   "cell_type": "code",
   "execution_count": 5,
   "metadata": {},
   "outputs": [],
   "source": [
    "character = load_tags(\"./popular-tags/character.txt\")\n",
    "copyright = load_tags(\"./popular-tags/copyright.txt\")"
   ]
  },
  {
   "cell_type": "code",
   "execution_count": 6,
   "metadata": {},
   "outputs": [],
   "source": [
    "special_tokens = [\n",
    "    \"<|bos|>\",\n",
    "    \"<|eos|>\",\n",
    "    \"<|pad|>\",\n",
    "    \"<|unknown|>\",\n",
    "    \"<rating>\",\n",
    "    \"</rating>\",\n",
    "    \"<copyright>\",\n",
    "    \"</copyright>\",\n",
    "    \"<character>\",\n",
    "    \"</character>\",\n",
    "    \"<general>\",\n",
    "    \"</general>\",\n",
    "]\n",
    "\n",
    "reserved_tokens = [f\"<|reserved_{i}|>\" for i in range(32)]"
   ]
  },
  {
   "cell_type": "code",
   "execution_count": 7,
   "metadata": {},
   "outputs": [],
   "source": [
    "rating_tags = [\n",
    "    \"rating:general\",\n",
    "    \"rating:sensitive\",\n",
    "    \"rating:questionable\",\n",
    "    \"rating:explicit\",\n",
    "    \"rating:sfw\",\n",
    "    \"rating:nsfw\",\n",
    "]"
   ]
  },
  {
   "cell_type": "code",
   "execution_count": 8,
   "metadata": {},
   "outputs": [],
   "source": [
    "all_tags = (\n",
    "    special_tokens\n",
    "    + reserved_tokens\n",
    "    + rating_tags\n",
    "    + copyright\n",
    "    + character\n",
    "    + general_general\n",
    "    + general_sensitive\n",
    "    + general_questionable\n",
    "    + general_explicit\n",
    ")"
   ]
  },
  {
   "cell_type": "code",
   "execution_count": 9,
   "metadata": {},
   "outputs": [
    {
     "data": {
      "text/plain": [
       "67998"
      ]
     },
     "execution_count": 9,
     "metadata": {},
     "output_type": "execute_result"
    }
   ],
   "source": [
    "len(all_tags)"
   ]
  },
  {
   "cell_type": "code",
   "execution_count": 10,
   "metadata": {},
   "outputs": [
    {
     "data": {
      "text/plain": [
       "67996"
      ]
     },
     "execution_count": 10,
     "metadata": {},
     "output_type": "execute_result"
    }
   ],
   "source": [
    "len(set(all_tags))  # ダブってる！！(収集中にカテゴリが変更された)"
   ]
  },
  {
   "cell_type": "code",
   "execution_count": 11,
   "metadata": {},
   "outputs": [
    {
     "name": "stdout",
     "output_type": "stream",
     "text": [
      "angel (evangelion)\n",
      "coca-cola\n"
     ]
    }
   ],
   "source": [
    "unique_all_tags = set(all_tags)\n",
    "for tag in all_tags:\n",
    "    if tag in unique_all_tags:\n",
    "        unique_all_tags.remove(tag)\n",
    "    elif tag not in unique_all_tags:\n",
    "        print(tag)"
   ]
  },
  {
   "cell_type": "code",
   "execution_count": 12,
   "metadata": {},
   "outputs": [
    {
     "name": "stdout",
     "output_type": "stream",
     "text": [
      "True\n",
      "True\n"
     ]
    }
   ],
   "source": [
    "print(\"coca-cola\" in general_general)\n",
    "print(\"angel (evangelion)\" in character)"
   ]
  },
  {
   "cell_type": "code",
   "execution_count": 13,
   "metadata": {},
   "outputs": [],
   "source": [
    "general_general.remove(\"coca-cola\")\n",
    "character.remove(\"angel (evangelion)\")"
   ]
  },
  {
   "cell_type": "code",
   "execution_count": 14,
   "metadata": {},
   "outputs": [],
   "source": [
    "all_tags = (\n",
    "    special_tokens\n",
    "    + reserved_tokens\n",
    "    + rating_tags\n",
    "    + copyright\n",
    "    + character\n",
    "    + general_general\n",
    "    + general_sensitive\n",
    "    + general_questionable\n",
    "    + general_explicit\n",
    ")"
   ]
  },
  {
   "cell_type": "code",
   "execution_count": 15,
   "metadata": {},
   "outputs": [
    {
     "data": {
      "text/plain": [
       "67996"
      ]
     },
     "execution_count": 15,
     "metadata": {},
     "output_type": "execute_result"
    }
   ],
   "source": [
    "len(all_tags)"
   ]
  },
  {
   "cell_type": "code",
   "execution_count": 16,
   "metadata": {},
   "outputs": [
    {
     "data": {
      "text/plain": [
       "['<|bos|>',\n",
       " '<|eos|>',\n",
       " '<|pad|>',\n",
       " '<|unknown|>',\n",
       " '<rating>',\n",
       " '</rating>',\n",
       " '<copyright>',\n",
       " '</copyright>',\n",
       " '<character>',\n",
       " '</character>',\n",
       " '<general>',\n",
       " '</general>',\n",
       " '<|reserved_0|>',\n",
       " '<|reserved_1|>',\n",
       " '<|reserved_2|>',\n",
       " '<|reserved_3|>',\n",
       " '<|reserved_4|>',\n",
       " '<|reserved_5|>',\n",
       " '<|reserved_6|>',\n",
       " '<|reserved_7|>',\n",
       " '<|reserved_8|>',\n",
       " '<|reserved_9|>',\n",
       " '<|reserved_10|>',\n",
       " '<|reserved_11|>',\n",
       " '<|reserved_12|>',\n",
       " '<|reserved_13|>',\n",
       " '<|reserved_14|>',\n",
       " '<|reserved_15|>',\n",
       " '<|reserved_16|>',\n",
       " '<|reserved_17|>',\n",
       " '<|reserved_18|>',\n",
       " '<|reserved_19|>',\n",
       " '<|reserved_20|>',\n",
       " '<|reserved_21|>',\n",
       " '<|reserved_22|>',\n",
       " '<|reserved_23|>',\n",
       " '<|reserved_24|>',\n",
       " '<|reserved_25|>',\n",
       " '<|reserved_26|>',\n",
       " '<|reserved_27|>',\n",
       " '<|reserved_28|>',\n",
       " '<|reserved_29|>',\n",
       " '<|reserved_30|>',\n",
       " '<|reserved_31|>',\n",
       " 'rating:general',\n",
       " 'rating:sensitive',\n",
       " 'rating:questionable',\n",
       " 'rating:explicit',\n",
       " 'rating:sfw',\n",
       " 'rating:nsfw',\n",
       " 'kamen rider dcd',\n",
       " 'idolmaster 2',\n",
       " 'immaterial and missing power',\n",
       " 'chikanoko',\n",
       " 'cream lemon',\n",
       " 'sengoku otome',\n",
       " 'vampire (game)',\n",
       " 'suigetsu',\n",
       " 'suicide squad',\n",
       " 'youkai watch',\n",
       " 'the witcher 3',\n",
       " 'kinnikuman',\n",
       " 'toriko (series)',\n",
       " 'bokutachi wa benkyou ga dekinai',\n",
       " 'mahou sensei negima!',\n",
       " 'guilty gear 2',\n",
       " 'bra-ban!',\n",
       " 'trigun stampede',\n",
       " 'luck & logic',\n",
       " 'pretty rhythm',\n",
       " 'elona',\n",
       " 'splatoon 3',\n",
       " 'maou-jou de oyasumi',\n",
       " 'otona no moeoh',\n",
       " 'taiko no tatsujin',\n",
       " 'getbackers',\n",
       " 'pop-up story',\n",
       " 'transformers animated',\n",
       " 'strike witches zero',\n",
       " 'the legend of zelda: breath of the wild',\n",
       " 'kotoura-san',\n",
       " \"dragon's dogma\",\n",
       " 'five star stories',\n",
       " 'bubblegum crisis',\n",
       " 'kaifuku jutsushi no yarinaoshi ~sokushi mahou to skill copy no chouetsu heal~',\n",
       " 'annie mei project',\n",
       " 'tsukuyomi moonphase',\n",
       " 'tsunderia',\n",
       " 'girls bravo',\n",
       " 'magus tale',\n",
       " 'baccano!',\n",
       " 'karakuri pierrot (vocaloid)',\n",
       " 'kiznaiver',\n",
       " 'tales of arise',\n",
       " 'shoujo kakumei utena',\n",
       " 'shining nikki',\n",
       " 'ashita no kimi to au tame ni',\n",
       " 'mayo chiki!',\n",
       " 'super robot wars og saga mugen no frontier',\n",
       " 'kaiten muten-maru']"
      ]
     },
     "execution_count": 16,
     "metadata": {},
     "output_type": "execute_result"
    }
   ],
   "source": [
    "all_tags[:100]"
   ]
  },
  {
   "cell_type": "code",
   "execution_count": 2,
   "metadata": {},
   "outputs": [],
   "source": [
    "from tokenizers import Tokenizer, AddedToken, Regex\n",
    "from tokenizers.models import WordLevel\n",
    "from tokenizers.pre_tokenizers import Split\n",
    "from tokenizers.normalizers import Lowercase\n",
    "from tokenizers.processors import TemplateProcessing"
   ]
  },
  {
   "cell_type": "code",
   "execution_count": 17,
   "metadata": {},
   "outputs": [],
   "source": [
    "tokenizer = Tokenizer(\n",
    "    WordLevel(vocab={tag: i for i, tag in enumerate(all_tags)}, unk_token=\"<|unknown|>\")\n",
    ")"
   ]
  },
  {
   "cell_type": "code",
   "execution_count": 18,
   "metadata": {},
   "outputs": [],
   "source": [
    "tokenizer.normalizer = Lowercase()"
   ]
  },
  {
   "cell_type": "code",
   "execution_count": 19,
   "metadata": {},
   "outputs": [],
   "source": [
    "# \"1girl, black hair,        cat ears,cowboy shot\"\n",
    "# ↓\n",
    "# [\"1girl\", \"black hair\", \"cat ears\", \"cowboy shot\"]\n",
    "tokenizer.pre_tokenizer = Split(\n",
    "    pattern=Regex(r\",(?:\\s)*\"), behavior=\"removed\", invert=False\n",
    ")"
   ]
  },
  {
   "cell_type": "code",
   "execution_count": 20,
   "metadata": {},
   "outputs": [
    {
     "data": {
      "text/plain": [
       "44"
      ]
     },
     "execution_count": 20,
     "metadata": {},
     "output_type": "execute_result"
    }
   ],
   "source": [
    "tokenizer.add_special_tokens(\n",
    "    [\n",
    "        AddedToken(\n",
    "            content=tag,\n",
    "        )\n",
    "        for tag in special_tokens + reserved_tokens\n",
    "    ]\n",
    ")"
   ]
  },
  {
   "cell_type": "code",
   "execution_count": 21,
   "metadata": {},
   "outputs": [
    {
     "data": {
      "text/plain": [
       "{'length': None,\n",
       " 'pad_to_multiple_of': None,\n",
       " 'pad_id': 0,\n",
       " 'pad_token': '<|pad|>',\n",
       " 'pad_type_id': 0,\n",
       " 'direction': 'right'}"
      ]
     },
     "execution_count": 21,
     "metadata": {},
     "output_type": "execute_result"
    }
   ],
   "source": [
    "PAD_TOKEN = \"<|pad|>\"\n",
    "tokenizer.enable_padding(pad_token=PAD_TOKEN)\n",
    "tokenizer.padding"
   ]
  },
  {
   "cell_type": "code",
   "execution_count": 22,
   "metadata": {},
   "outputs": [
    {
     "data": {
      "text/plain": [
       "['1girl',\n",
       " '2girls',\n",
       " '<|unknown|>',\n",
       " 'long hair',\n",
       " 'very long hair',\n",
       " 'honkai: star rail',\n",
       " 'arknights',\n",
       " '<|unknown|>']"
      ]
     },
     "execution_count": 22,
     "metadata": {},
     "output_type": "execute_result"
    }
   ],
   "source": [
    "tokenizer.encode(\n",
    "    \"1girl, 2girls, aaa, long hair, very long hair, honkai: star rail, arknights, (arknights)\"\n",
    ").tokens"
   ]
  },
  {
   "cell_type": "code",
   "execution_count": 26,
   "metadata": {},
   "outputs": [],
   "source": [
    "tokenizer.save(\"tokenizer.json\")"
   ]
  },
  {
   "cell_type": "markdown",
   "metadata": {},
   "source": [
    "## Load in transformers\n"
   ]
  },
  {
   "cell_type": "code",
   "execution_count": 23,
   "metadata": {},
   "outputs": [],
   "source": [
    "from transformers import PreTrainedTokenizerFast"
   ]
  },
  {
   "cell_type": "code",
   "execution_count": 27,
   "metadata": {},
   "outputs": [],
   "source": [
    "pretrained_tokenizer = PreTrainedTokenizerFast(tokenizer_file=\"tokenizer.json\")"
   ]
  },
  {
   "cell_type": "code",
   "execution_count": 28,
   "metadata": {},
   "outputs": [
    {
     "data": {
      "text/plain": [
       "['<|bos|>',\n",
       " '1girl',\n",
       " '1girl',\n",
       " '2girls',\n",
       " '<|unknown|>',\n",
       " 'long hair',\n",
       " 'very long hair',\n",
       " 'honkai: star rail',\n",
       " 'arknights',\n",
       " '<|unknown|>',\n",
       " '<|eos|>',\n",
       " '<|pad|>',\n",
       " '<|pad|>',\n",
       " '<|pad|>']"
      ]
     },
     "execution_count": 28,
     "metadata": {},
     "output_type": "execute_result"
    }
   ],
   "source": [
    "pretrained_tokenizer.tokenize(\n",
    "    \"<|bos|>1GIRL, 1girl, 2girls, aaa, long hair, very long hair, honkai: star rail, arknights, (arknights), <|eos|><|pad|><|pad|><|pad|>\"\n",
    ")"
   ]
  },
  {
   "cell_type": "code",
   "execution_count": 29,
   "metadata": {},
   "outputs": [],
   "source": [
    "pretrained_tokenizer.bos_token = \"<|bos|>\"\n",
    "pretrained_tokenizer.eos_token = \"<|eos|>\"\n",
    "pretrained_tokenizer.unk_token = \"<|unknown|>\""
   ]
  },
  {
   "cell_type": "code",
   "execution_count": 30,
   "metadata": {},
   "outputs": [
    {
     "data": {
      "text/plain": [
       "['1girl', 'solo', 'looking at viewer']"
      ]
     },
     "execution_count": 30,
     "metadata": {},
     "output_type": "execute_result"
    }
   ],
   "source": [
    "pretrained_tokenizer.tokenize(\n",
    "    \"\"\" 1girl,\n",
    "solo,    \n",
    "looking at viewer\n",
    "\"\"\".strip()\n",
    ")"
   ]
  },
  {
   "cell_type": "code",
   "execution_count": 31,
   "metadata": {},
   "outputs": [
    {
     "data": {
      "text/plain": [
       "{'input_ids': [0, 60268, 40044], 'token_type_ids': [0, 0, 0], 'attention_mask': [1, 1, 1]}"
      ]
     },
     "execution_count": 31,
     "metadata": {},
     "output_type": "execute_result"
    }
   ],
   "source": [
    "pretrained_tokenizer.encode_plus(\"<|bos|>1girl, solo\")"
   ]
  },
  {
   "cell_type": "code",
   "execution_count": 32,
   "metadata": {},
   "outputs": [],
   "source": [
    "# pretrained_tokenizer.push_to_hub(\"p1atdev/tokenizer_test_1\")"
   ]
  },
  {
   "cell_type": "code",
   "execution_count": 33,
   "metadata": {},
   "outputs": [
    {
     "data": {
      "text/plain": [
       "('./dart-tokenizer-20240219\\\\tokenizer_config.json',\n",
       " './dart-tokenizer-20240219\\\\special_tokens_map.json',\n",
       " './dart-tokenizer-20240219\\\\tokenizer.json')"
      ]
     },
     "execution_count": 33,
     "metadata": {},
     "output_type": "execute_result"
    }
   ],
   "source": [
    "pretrained_tokenizer.save_pretrained(\"./dart-tokenizer-20240219\")"
   ]
  },
  {
   "cell_type": "markdown",
   "metadata": {},
   "source": [
    "## Create tag category map\n"
   ]
  },
  {
   "cell_type": "code",
   "execution_count": 51,
   "metadata": {},
   "outputs": [],
   "source": [
    "general_general_ids = [tokenizer.token_to_id(tag) for tag in general_general]\n",
    "assert min(general_general_ids) == general_general_ids[0]\n",
    "\n",
    "general_sensitive_ids = [tokenizer.token_to_id(tag) for tag in general_sensitive]\n",
    "assert min(general_sensitive_ids) == general_sensitive_ids[0]\n",
    "\n",
    "general_questionable_ids = [tokenizer.token_to_id(tag) for tag in general_questionable]\n",
    "assert min(general_questionable_ids) == general_questionable_ids[0]\n",
    "\n",
    "general_explicit_ids = [tokenizer.token_to_id(tag) for tag in general_explicit]\n",
    "assert min(general_explicit_ids) == general_explicit_ids[0]"
   ]
  },
  {
   "cell_type": "code",
   "execution_count": 52,
   "metadata": {},
   "outputs": [],
   "source": [
    "character_ids = [tokenizer.token_to_id(tag) for tag in character]\n",
    "assert min(character_ids) == character_ids[0]\n",
    "\n",
    "copyright_ids = [tokenizer.token_to_id(tag) for tag in copyright]\n",
    "assert min(copyright_ids) == copyright_ids[0]"
   ]
  },
  {
   "cell_type": "code",
   "execution_count": 53,
   "metadata": {},
   "outputs": [],
   "source": [
    "rating_ids = [tokenizer.token_to_id(tag) for tag in rating_tags]"
   ]
  },
  {
   "cell_type": "code",
   "execution_count": 49,
   "metadata": {},
   "outputs": [],
   "source": [
    "def load_tag_category():\n",
    "    with open(\"dart-config/tag_category.jsonc\", \"r\", encoding=\"utf-8\") as file:\n",
    "        tag_category = json.loads(file.read())\n",
    "    return tag_category\n",
    "\n",
    "\n",
    "def save_tag_category(data):\n",
    "    with open(\"dart-config/tag_category.json\", \"w\", encoding=\"utf-8\") as file:\n",
    "        file.write(json.dumps(data, ensure_ascii=False))\n",
    "\n",
    "\n",
    "tag_category = load_tag_category()"
   ]
  },
  {
   "cell_type": "code",
   "execution_count": 55,
   "metadata": {},
   "outputs": [],
   "source": [
    "tag_category[\"category_to_token_ids\"][\"1\"] = rating_ids\n",
    "tag_category[\"category_to_token_ids\"][\"2\"] = copyright_ids\n",
    "tag_category[\"category_to_token_ids\"][\"3\"] = character_ids\n",
    "tag_category[\"category_to_token_ids\"][\"4\"] = (\n",
    "    general_general_ids\n",
    "    + general_sensitive_ids\n",
    "    + general_questionable_ids\n",
    "    + general_explicit_ids\n",
    ")"
   ]
  },
  {
   "cell_type": "code",
   "execution_count": 56,
   "metadata": {},
   "outputs": [],
   "source": [
    "save_tag_category(tag_category)"
   ]
  }
 ],
 "metadata": {
  "kernelspec": {
   "display_name": "py310",
   "language": "python",
   "name": "python3"
  },
  "language_info": {
   "codemirror_mode": {
    "name": "ipython",
    "version": 3
   },
   "file_extension": ".py",
   "mimetype": "text/x-python",
   "name": "python",
   "nbconvert_exporter": "python",
   "pygments_lexer": "ipython3",
   "version": "3.10.10"
  }
 },
 "nbformat": 4,
 "nbformat_minor": 2
}
