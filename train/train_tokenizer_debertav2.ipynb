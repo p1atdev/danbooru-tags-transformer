{
 "cells": [
  {
   "cell_type": "markdown",
   "metadata": {},
   "source": [
    "## Imports"
   ]
  },
  {
   "cell_type": "code",
   "execution_count": 1,
   "metadata": {},
   "outputs": [],
   "source": [
    "from datasets import load_dataset, Dataset\n",
    "from tokenizers import Tokenizer, AddedToken, Regex\n",
    "from tokenizers.models import WordLevel\n",
    "from tokenizers.pre_tokenizers import Split\n",
    "from tokenizers.normalizers import Lowercase\n",
    "from transformers import PreTrainedTokenizerFast"
   ]
  },
  {
   "cell_type": "code",
   "execution_count": 2,
   "metadata": {},
   "outputs": [],
   "source": [
    "import matplotlib.pyplot as plt\n",
    "import numpy as np\n",
    "import json\n",
    "from tqdm import tqdm"
   ]
  },
  {
   "cell_type": "code",
   "execution_count": 3,
   "metadata": {},
   "outputs": [],
   "source": [
    "DATASET_REPO_ID = \"isek-ai/danbooru-tags-2024\"\n",
    "DATASET_NAME = \"202402-at20240326\"\n",
    "DATASET_SPLIT = \"train\""
   ]
  },
  {
   "cell_type": "markdown",
   "metadata": {},
   "source": [
    "## Load dataset"
   ]
  },
  {
   "cell_type": "code",
   "execution_count": 4,
   "metadata": {},
   "outputs": [
    {
     "name": "stdout",
     "output_type": "stream",
     "text": [
      "Dataset({\n",
      "    features: ['id', 'copyright', 'character', 'artist', 'general', 'meta', 'rating', 'score', 'created_at'],\n",
      "    num_rows: 7124975\n",
      "})\n"
     ]
    }
   ],
   "source": [
    "def prepare_dataset():\n",
    "    ds = load_dataset(DATASET_REPO_ID, name=DATASET_NAME, split=DATASET_SPLIT)\n",
    "    print(ds)\n",
    "    return ds\n",
    "\n",
    "\n",
    "ds = prepare_dataset()"
   ]
  },
  {
   "cell_type": "code",
   "execution_count": 5,
   "metadata": {},
   "outputs": [],
   "source": [
    "def load_from_json(path: str):\n",
    "    with open(path, \"r\", encoding=\"utf-8\") as f:\n",
    "        return json.load(f)\n",
    "\n",
    "\n",
    "def save_to_json(data, path: str):\n",
    "    with open(path, \"w\", encoding=\"utf-8\") as f:\n",
    "        json.dump(data, f, ensure_ascii=False, indent=2)"
   ]
  },
  {
   "cell_type": "markdown",
   "metadata": {},
   "source": [
    "## Investigate the dataset"
   ]
  },
  {
   "cell_type": "code",
   "execution_count": 6,
   "metadata": {},
   "outputs": [
    {
     "name": "stderr",
     "output_type": "stream",
     "text": [
      "100%|██████████| 7124975/7124975 [00:30<00:00, 233203.03it/s]\n"
     ]
    },
    {
     "data": {
      "text/plain": [
       "{'1girl': 5071347,\n",
       " 'solo': 4233465,\n",
       " 'long hair': 3626142,\n",
       " 'breasts': 2868312,\n",
       " 'looking at viewer': 2693349,\n",
       " 'blush': 2479142,\n",
       " 'smile': 2355676,\n",
       " 'open mouth': 1938878,\n",
       " 'short hair': 1893313,\n",
       " 'blue eyes': 1482719,\n",
       " 'simple background': 1417790,\n",
       " 'shirt': 1381800,\n",
       " 'large breasts': 1321698,\n",
       " 'skirt': 1321065,\n",
       " 'blonde hair': 1301381,\n",
       " 'multiple girls': 1296493,\n",
       " 'brown hair': 1258113,\n",
       " 'black hair': 1219721,\n",
       " 'long sleeves': 1198509,\n",
       " 'hair ornament': 1168485,\n",
       " 'white background': 1161490,\n",
       " '1boy': 1113347,\n",
       " 'gloves': 1109069,\n",
       " 'red eyes': 1075554,\n",
       " 'dress': 1044181,\n",
       " 'hat': 1026066,\n",
       " 'thighhighs': 1025587,\n",
       " 'holding': 1024716,\n",
       " 'bow': 980035,\n",
       " 'navel': 968152,\n",
       " 'animal ears': 946708,\n",
       " 'ribbon': 931157,\n",
       " 'hair between eyes': 922360,\n",
       " 'closed mouth': 878554,\n",
       " '2girls': 853719,\n",
       " 'cleavage': 844904,\n",
       " 'jewelry': 828390,\n",
       " 'bare shoulders': 812866,\n",
       " 'very long hair': 780557,\n",
       " 'sitting': 779450,\n",
       " 'medium breasts': 765635,\n",
       " 'twintails': 765380,\n",
       " 'brown eyes': 742110,\n",
       " 'standing': 734702,\n",
       " 'nipples': 709352,\n",
       " 'green eyes': 707488,\n",
       " 'jacket': 702004,\n",
       " 'blue hair': 700505,\n",
       " 'underwear': 699922,\n",
       " 'school uniform': 682345,\n",
       " 'purple eyes': 666807,\n",
       " 'collarbone': 653253,\n",
       " 'tail': 631464,\n",
       " 'white shirt': 630080,\n",
       " 'full body': 624850,\n",
       " 'upper body': 596996,\n",
       " 'panties': 574818,\n",
       " 'white hair': 564083,\n",
       " 'yellow eyes': 563533,\n",
       " 'closed eyes': 561754,\n",
       " 'swimsuit': 560031,\n",
       " 'pink hair': 548691,\n",
       " 'monochrome': 542279,\n",
       " 'grey hair': 529989,\n",
       " 'ahoge': 526517,\n",
       " 'braid': 522717,\n",
       " 'hair ribbon': 521960,\n",
       " 'purple hair': 520624,\n",
       " 'male focus': 518079,\n",
       " 'flower': 510623,\n",
       " 'ponytail': 510503,\n",
       " 'ass': 505875,\n",
       " 'weapon': 504332,\n",
       " 'multicolored hair': 502466,\n",
       " 'short sleeves': 498314,\n",
       " 'sidelocks': 483201,\n",
       " 'comic': 472692,\n",
       " 'heart': 466389,\n",
       " 'thighs': 462811,\n",
       " ':d': 462263,\n",
       " 'hetero': 455949,\n",
       " 'hair bow': 452971,\n",
       " 'cowboy shot': 440322,\n",
       " 'pantyhose': 439616,\n",
       " 'outdoors': 437390,\n",
       " 'earrings': 434668,\n",
       " 'greyscale': 428015,\n",
       " 'bikini': 422962,\n",
       " 'sweat': 422290,\n",
       " 'red hair': 420978,\n",
       " 'pleated skirt': 415717,\n",
       " 'nude': 413510,\n",
       " 'small breasts': 411566,\n",
       " 'frills': 401870,\n",
       " 'hairband': 396241,\n",
       " 'parted lips': 396080,\n",
       " 'open clothes': 384474,\n",
       " 'boots': 383146,\n",
       " 'censored': 381035,\n",
       " 'lying': 375323,\n",
       " 'horns': 373315,\n",
       " 'teeth': 370069,\n",
       " 'multiple boys': 364120,\n",
       " 'wings': 364004,\n",
       " 'food': 360587,\n",
       " 'necktie': 359298,\n",
       " 'one eye closed': 358327,\n",
       " 'detached sleeves': 356672,\n",
       " 'sky': 355525,\n",
       " 'shorts': 345419,\n",
       " 'japanese clothes': 342911,\n",
       " 'green hair': 342469,\n",
       " 'shoes': 342315,\n",
       " 'sleeveless': 341402,\n",
       " 'penis': 332984,\n",
       " 'alternate costume': 331755,\n",
       " 'black gloves': 331249,\n",
       " 'collared shirt': 323681,\n",
       " 'choker': 320788,\n",
       " 'barefoot': 314797,\n",
       " 'socks': 308992,\n",
       " 'tongue': 307005,\n",
       " 'glasses': 306788,\n",
       " 'pussy': 306198,\n",
       " 'pointy ears': 306056,\n",
       " 'pants': 303922,\n",
       " 'solo focus': 295956,\n",
       " 'day': 292461,\n",
       " 'virtual youtuber': 285901,\n",
       " 'serafuku': 282581,\n",
       " 'puffy sleeves': 281150,\n",
       " 'hairclip': 278952,\n",
       " 'artist name': 278649,\n",
       " 'indoors': 278291,\n",
       " 'medium hair': 274323,\n",
       " 'belt': 271956,\n",
       " 'black thighhighs': 270349,\n",
       " 'fang': 267720,\n",
       " 'hand up': 267240,\n",
       " 'elbow gloves': 263709,\n",
       " 'midriff': 257546,\n",
       " 'looking back': 243428,\n",
       " 'cloud': 242860,\n",
       " 'white gloves': 241406,\n",
       " 'signature': 239083,\n",
       " 'bowtie': 235672,\n",
       " 'hood': 235147,\n",
       " 'sword': 233823,\n",
       " 'black skirt': 233036,\n",
       " 'dark skin': 231184,\n",
       " 'cat ears': 231128,\n",
       " '2boys': 230896,\n",
       " 'blunt bangs': 229026,\n",
       " 'hair flower': 228945,\n",
       " 'official alternate costume': 227898,\n",
       " 'tongue out': 223665,\n",
       " 'pink eyes': 219457,\n",
       " 'sailor collar': 217698,\n",
       " 'wide sleeves': 217148,\n",
       " 'spread legs': 216916,\n",
       " 'miniskirt': 216309,\n",
       " 'stomach': 215823,\n",
       " 'fingerless gloves': 214667,\n",
       " 'sex': 213152,\n",
       " 'black footwear': 212803,\n",
       " 'grey background': 211728,\n",
       " 'on back': 211208,\n",
       " 'tears': 210247,\n",
       " 'cum': 210067,\n",
       " '3girls': 208697,\n",
       " 'armpits': 206100,\n",
       " 'twitter username': 203230,\n",
       " 'kimono': 202564,\n",
       " 'white dress': 200560,\n",
       " 'holding weapon': 199926,\n",
       " 'off shoulder': 198522,\n",
       " 'necklace': 198086,\n",
       " 'striped clothes': 197840,\n",
       " 'hair bun': 195427,\n",
       " 'nail polish': 194126,\n",
       " 'star (symbol)': 193711,\n",
       " 'looking at another': 192845,\n",
       " 'mole': 192788,\n",
       " 'from behind': 192202,\n",
       " 'hair over one eye': 191196,\n",
       " 'water': 190202,\n",
       " 'bag': 188787,\n",
       " 'rabbit ears': 188063,\n",
       " 'orange hair': 187215,\n",
       " 'blurry': 186318,\n",
       " 'chibi': 184727,\n",
       " 'grin': 184408,\n",
       " 'sweatdrop': 183234,\n",
       " 'clothes lift': 181132,\n",
       " 'black dress': 181075,\n",
       " 'scarf': 179178,\n",
       " 'cape': 178333,\n",
       " 'two-tone hair': 177720,\n",
       " 'white thighhighs': 177374,\n",
       " 'black eyes': 176765,\n",
       " 'speech bubble': 176138,\n",
       " 'english text': 174956,\n",
       " 'streaked hair': 174775,\n",
       " 'halo': 174441,\n",
       " 'from side': 173497,\n",
       " 'open jacket': 173413,\n",
       " 'armor': 172790,\n",
       " 'bra': 172493,\n",
       " 'yuri': 172268,\n",
       " 'vest': 171707,\n",
       " 'huge breasts': 170640,\n",
       " 'apron': 170234,\n",
       " 'arm up': 167582,\n",
       " 'feet': 167525,\n",
       " 'red bow': 167496,\n",
       " 'black jacket': 165201,\n",
       " 'coat': 165047,\n",
       " 'character name': 164577,\n",
       " 'white panties': 164425,\n",
       " 'mosaic censoring': 163716,\n",
       " 'leotard': 163662,\n",
       " 'high heels': 162775,\n",
       " ':o': 160247,\n",
       " 'vaginal': 159764,\n",
       " 'collar': 157796,\n",
       " 'sweater': 157283,\n",
       " 'arms up': 156627,\n",
       " 'bracelet': 154404,\n",
       " 'dated': 153341,\n",
       " 'blue sky': 153174,\n",
       " 'twin braids': 151719,\n",
       " 'flat chest': 151592,\n",
       " 'uniform': 150234,\n",
       " 'crop top': 149431,\n",
       " 'side ponytail': 148900,\n",
       " 'animal ear fluff': 148198,\n",
       " 'red ribbon': 147517,\n",
       " 'black shirt': 147397,\n",
       " 'cup': 146570,\n",
       " 'aqua eyes': 146037,\n",
       " 'dark-skinned female': 145915,\n",
       " 'black pantyhose': 143741,\n",
       " 'parted bangs': 142439,\n",
       " 'puffy short sleeves': 142345,\n",
       " 'covered nipples': 142062,\n",
       " 'fingernails': 141866,\n",
       " 'blue skirt': 141761,\n",
       " 'two side up': 141244,\n",
       " 'completely nude': 140675,\n",
       " 'tree': 139488,\n",
       " 'hands up': 139450,\n",
       " 'looking to the side': 137755,\n",
       " 'grey eyes': 136744,\n",
       " 'v-shaped eyebrows': 136666,\n",
       " 'orange eyes': 135390,\n",
       " 'legs': 134191,\n",
       " 'neckerchief': 133935,\n",
       " 'sleeves past wrists': 131284,\n",
       " 'sketch': 130305,\n",
       " 'symbol-shaped pupils': 130224,\n",
       " 'cat tail': 129779,\n",
       " 'eyelashes': 129069,\n",
       " 'groin': 128611,\n",
       " 'fur trim': 127743,\n",
       " 'see-through': 126901,\n",
       " 'wet': 126894,\n",
       " 'wrist cuffs': 126240,\n",
       " 'hand on own hip': 125544,\n",
       " 'lips': 124877,\n",
       " 'loli': 123290,\n",
       " 'strapless': 122315,\n",
       " 'head tilt': 121768,\n",
       " 'clothing cutout': 121676,\n",
       " 'gun': 121492,\n",
       " 'pillow': 121385,\n",
       " 'zettai ryouiki': 121308,\n",
       " 'maid': 121260,\n",
       " 'plaid': 120492,\n",
       " 'multiple views': 120122,\n",
       " 'mole under eye': 120009,\n",
       " 'toes': 119943,\n",
       " 'bar censor': 119939,\n",
       " 'torn clothes': 119461,\n",
       " 'fox ears': 119221,\n",
       " 'one-piece swimsuit': 118085,\n",
       " 'sash': 117717,\n",
       " 'book': 117493,\n",
       " 'sleeveless dress': 117367,\n",
       " 'sleeveless shirt': 117246,\n",
       " 'maid headdress': 116955,\n",
       " 'feet out of frame': 116939,\n",
       " 'short shorts': 116793,\n",
       " 'bare arms': 116656,\n",
       " 'gradient background': 116020,\n",
       " 'v': 115319,\n",
       " 'ascot': 115239,\n",
       " 'pubic hair': 114524,\n",
       " 'black panties': 114238,\n",
       " 'shiny skin': 114117,\n",
       " 'cosplay': 113901,\n",
       " 'sparkle': 113870,\n",
       " 'pokemon (creature)': 113620,\n",
       " 'muscular': 112705,\n",
       " 'fake animal ears': 112658,\n",
       " 'petals': 111714,\n",
       " 'bare legs': 110903,\n",
       " 'no humans': 110898,\n",
       " 'kneehighs': 110359,\n",
       " 'window': 109374,\n",
       " 'thigh strap': 108311,\n",
       " 'black bow': 108310,\n",
       " 'single braid': 107404,\n",
       " 'covered navel': 107287,\n",
       " 'neck ribbon': 106799,\n",
       " 'black ribbon': 106510,\n",
       " 'hoodie': 106142,\n",
       " 'black choker': 105914,\n",
       " 'upper teeth only': 105805,\n",
       " 'gradient hair': 105673,\n",
       " 'detached collar': 105359,\n",
       " 'buttons': 104779,\n",
       " 'tattoo': 104661,\n",
       " 'uncensored': 104647,\n",
       " 'dutch angle': 104176,\n",
       " 'double bun': 104159,\n",
       " 'dress shirt': 104150,\n",
       " 'black legwear': 104055,\n",
       " 'blurry background': 103499,\n",
       " 'profile': 102494,\n",
       " 'open shirt': 102349,\n",
       " 'sideboob': 100796,\n",
       " 'kneeling': 100763,\n",
       " 'makeup': 100464,\n",
       " 'blood': 100384,\n",
       " 'bell': 100105,\n",
       " 'floating hair': 99117,\n",
       " 'hug': 99103,\n",
       " 'military': 98727,\n",
       " 'mask': 98428,\n",
       " 'aqua hair': 98349,\n",
       " 'colored skin': 98290,\n",
       " 'swept bangs': 98101,\n",
       " 'saliva': 97975,\n",
       " 'skindentation': 97595,\n",
       " 'capelet': 97521,\n",
       " 'facial hair': 97291,\n",
       " 'bodysuit': 96760,\n",
       " 'leaning forward': 96710,\n",
       " '4girls': 95995,\n",
       " 'anus': 95970,\n",
       " 'black pants': 95942,\n",
       " 'blue dress': 95747,\n",
       " 'shadow': 94910,\n",
       " 'night': 94838,\n",
       " 'pov': 94558,\n",
       " 'copyright name': 94085,\n",
       " 'pussy juice': 93123,\n",
       " 'black bikini': 93057,\n",
       " 'bed': 93012,\n",
       " 'no bra': 92475,\n",
       " ':3': 91622,\n",
       " '4koma': 91280,\n",
       " 'heterochromia': 91080,\n",
       " 'depth of field': 90839,\n",
       " 'blue bow': 90239,\n",
       " 'nose blush': 90211,\n",
       " 'alternate hairstyle': 90096,\n",
       " 'red skirt': 90050,\n",
       " 'border': 89907,\n",
       " 'turtleneck': 89628,\n",
       " 'fruit': 89315,\n",
       " 'fox tail': 89003,\n",
       " 'blue background': 88591,\n",
       " 'highleg': 88238,\n",
       " 'expressionless': 88227,\n",
       " 'low twintails': 87882,\n",
       " 'siblings': 87832,\n",
       " 'military uniform': 87702,\n",
       " 'underboob': 87683,\n",
       " 'frown': 87458,\n",
       " 'witch hat': 87453,\n",
       " 'rose': 87399,\n",
       " 'horse ears': 87171,\n",
       " '^_^': 87169,\n",
       " 'watermark': 87018,\n",
       " 'one side up': 86666,\n",
       " 'black shorts': 86597,\n",
       " 'bird': 86593,\n",
       " 'on bed': 86374,\n",
       " 'cameltoe': 86171,\n",
       " 'cum in pussy': 86149,\n",
       " 'no panties': 85952,\n",
       " 'scar': 85770,\n",
       " 'glowing': 85726,\n",
       " 'headband': 85563,\n",
       " 'beret': 83646,\n",
       " 'ocean': 83620,\n",
       " 'brown footwear': 83533,\n",
       " 'soles': 83484,\n",
       " 'animal': 83224,\n",
       " 'halterneck': 83190,\n",
       " 'wavy hair': 83130,\n",
       " 'bottomless': 83085,\n",
       " 'side-tie bikini bottom': 83039,\n",
       " 'holding hands': 82980,\n",
       " 'fangs': 82947,\n",
       " 'bed sheet': 82815,\n",
       " 'leaf': 82775,\n",
       " 'piercing': 82540,\n",
       " 'thick thighs': 82471,\n",
       " 'chain': 82440,\n",
       " 'playboy bunny': 82391,\n",
       " 'headphones': 82097,\n",
       " 'arm support': 81287,\n",
       " 'white jacket': 81133,\n",
       " 'from above': 80917,\n",
       " 'holding sword': 80736,\n",
       " 'embarrassed': 80619,\n",
       " 'white socks': 80544,\n",
       " 'hair intakes': 79886,\n",
       " 'chinese clothes': 78962,\n",
       " 'white bikini': 78412,\n",
       " 'back': 78158,\n",
       " 'ass visible through thighs': 77962,\n",
       " 'horse girl': 77845,\n",
       " 'thick eyebrows': 77714,\n",
       " 'no shoes': 77387,\n",
       " 'facial mark': 77342,\n",
       " 'phone': 77335,\n",
       " 'blush stickers': 77311,\n",
       " 'plaid skirt': 77062,\n",
       " 'abs': 76744,\n",
       " 'chair': 76492,\n",
       " 'looking down': 76343,\n",
       " 'umbrella': 76137,\n",
       " 'white footwear': 76113,\n",
       " 'bandages': 75961,\n",
       " 'thigh boots': 75671,\n",
       " 'erection': 75660,\n",
       " 'sandals': 75642,\n",
       " 'beach': 75523,\n",
       " 'half-closed eyes': 75459,\n",
       " 'muscular male': 75284,\n",
       " 'headgear': 75235,\n",
       " 'on side': 74912,\n",
       " 'female pubic hair': 74819,\n",
       " 'floral print': 74120,\n",
       " '6+girls': 73841,\n",
       " 'short dress': 73297,\n",
       " 'bob cut': 73268,\n",
       " 'heart-shaped pupils': 73227,\n",
       " 'wariza': 72887,\n",
       " 'drill hair': 72832,\n",
       " 'garter straps': 72804,\n",
       " 'pectorals': 72693,\n",
       " 'red dress': 72567,\n",
       " 'black hat': 72564,\n",
       " 'sunglasses': 72337,\n",
       " 'obi': 72269,\n",
       " 'arms behind back': 72178,\n",
       " 'happy': 71802,\n",
       " 'traditional media': 71531,\n",
       " 'pink background': 71441,\n",
       " 'frilled dress': 70827,\n",
       " 'shirt lift': 70801,\n",
       " 'flying sweatdrops': 70667,\n",
       " 'hood down': 70428,\n",
       " 'stuffed toy': 70399,\n",
       " 'mouth hold': 70371,\n",
       " 'eating': 70317,\n",
       " 'clothes pull': 70275,\n",
       " 'grabbing': 70062,\n",
       " 'testicles': 69980,\n",
       " 'dark-skinned male': 69862,\n",
       " 'squatting': 69706,\n",
       " 'cleavage cutout': 69663,\n",
       " 'blue shirt': 69620,\n",
       " 'white skirt': 69597,\n",
       " 'transparent background': 69547,\n",
       " 'crossed arms': 68966,\n",
       " 'light brown hair': 68928,\n",
       " 'table': 68583,\n",
       " 'thigh gap': 68435,\n",
       " 'black socks': 68301,\n",
       " 'from below': 68220,\n",
       " 'white legwear': 68152,\n",
       " 'wavy mouth': 68141,\n",
       " 'holding food': 67985,\n",
       " 'ring': 67854,\n",
       " 'leg up': 67718,\n",
       " 'hair tubes': 67590,\n",
       " 'blue jacket': 67444,\n",
       " 'bound': 67270,\n",
       " 'white flower': 67105,\n",
       " 'wolf ears': 67000,\n",
       " 'black hairband': 66577,\n",
       " 'parody': 66322,\n",
       " 'moon': 65819,\n",
       " 'scrunchie': 65695,\n",
       " 'white bow': 65586,\n",
       " 'eyepatch': 65546,\n",
       " 'standing on one leg': 65515,\n",
       " 'skirt lift': 65445,\n",
       " 'sunlight': 65440,\n",
       " 'cat girl': 65013,\n",
       " 'oral': 64981,\n",
       " 'formal': 64574,\n",
       " 'trembling': 64511,\n",
       " 'topless': 64476,\n",
       " 'cat': 64458,\n",
       " 'demon girl': 64450,\n",
       " 'cardigan': 64149,\n",
       " 'mob cap': 63952,\n",
       " 'magical girl': 63098,\n",
       " 'backpack': 62873,\n",
       " 'looking away': 62766,\n",
       " 'cellphone': 62667,\n",
       " 'own hands together': 62365,\n",
       " 'demon horns': 62103,\n",
       " 'pantyshot': 61908,\n",
       " 'eyes visible through hair': 61865,\n",
       " 'crossed legs': 61768,\n",
       " 'frilled skirt': 61666,\n",
       " 'cover': 61287,\n",
       " 'tank top': 61003,\n",
       " 'cloudy sky': 60989,\n",
       " 'grass': 60976,\n",
       " 'crying': 60963,\n",
       " 'sharp teeth': 60940,\n",
       " 'single hair bun': 60607,\n",
       " 'blazer': 60558,\n",
       " 'suspenders': 60471,\n",
       " 'suit': 60392,\n",
       " 'high ponytail': 60378,\n",
       " 'sleeping': 60342,\n",
       " 'helmet': 60329,\n",
       " 'feathers': 60269,\n",
       " '3boys': 59538,\n",
       " 'bottle': 59256,\n",
       " 'stuffed animal': 59172,\n",
       " 'x hair ornament': 59065,\n",
       " 'cum on body': 59008,\n",
       " 'underwear only': 58782,\n",
       " 'blue ribbon': 58769,\n",
       " 'portrait': 58746,\n",
       " 'black background': 58653,\n",
       " 'frilled sleeves': 58629,\n",
       " 'bdsm': 58571,\n",
       " 'fox girl': 58390,\n",
       " 'plant': 58323,\n",
       " 'light smile': 58309,\n",
       " 'bara': 58166,\n",
       " 'antenna hair': 58098,\n",
       " 'looking up': 57969,\n",
       " 'striped': 57925,\n",
       " 'school swimsuit': 57289,\n",
       " 'cross': 57264,\n",
       " \"grabbing another's breast\": 57246,\n",
       " 'pink bow': 57000,\n",
       " 'bug': 56814,\n",
       " 'denim': 56782,\n",
       " 'hat ribbon': 56744,\n",
       " 'fire': 56712,\n",
       " 'red necktie': 56654,\n",
       " 'knee boots': 56630,\n",
       " ';d': 56546,\n",
       " 'crown': 56495,\n",
       " 'lifted by self': 56092,\n",
       " 'tiara': 55825,\n",
       " 'outstretched arms': 55782,\n",
       " 'red flower': 55763,\n",
       " 'couple': 55598,\n",
       " 'katana': 55538,\n",
       " 'aged down': 54940,\n",
       " 'juliet sleeves': 54706,\n",
       " 'straddling': 54663,\n",
       " 'breasts out': 54640,\n",
       " 'motion lines': 54578,\n",
       " 'black nails': 54500,\n",
       " 'crossover': 54383,\n",
       " 'ear piercing': 54275,\n",
       " 'robot': 54140,\n",
       " 'on stomach': 54131,\n",
       " 'spiked hair': 54037,\n",
       " 'curtains': 54032,\n",
       " 'sisters': 53920,\n",
       " 'polka dot': 53868,\n",
       " 'fellatio': 53836,\n",
       " 'outstretched arm': 53807,\n",
       " 'knife': 53701,\n",
       " 'slit pupils': 53632,\n",
       " '?': 53595,\n",
       " 'wing collar': 53454,\n",
       " 'bat wings': 53364,\n",
       " 'pointing': 53123,\n",
       " 'bright pupils': 52703,\n",
       " 'animal print': 52578,\n",
       " 'bent over': 52532,\n",
       " 'red shirt': 52290,\n",
       " 'elf': 52186,\n",
       " 'clenched teeth': 52139,\n",
       " '>_<': 52121,\n",
       " 'white hat': 52085,\n",
       " 'white border': 51941,\n",
       " 'lingerie': 51839,\n",
       " 'striped thighhighs': 51682,\n",
       " 'girl on top': 51662,\n",
       " '5girls': 51434,\n",
       " 'blue sailor collar': 51318,\n",
       " 'sex from behind': 51203,\n",
       " 'undressing': 50992,\n",
       " 'tassel': 50990,\n",
       " 'gem': 50971,\n",
       " 'sneakers': 50864,\n",
       " 'hand on own chest': 50849,\n",
       " 'black leotard': 50819,\n",
       " 't-shirt': 50818,\n",
       " 'monster girl': 50743,\n",
       " 'rabbit tail': 50672,\n",
       " 'holding gun': 50639,\n",
       " 'white apron': 50629,\n",
       " 'head wings': 50202,\n",
       " 'yaoi': 50195,\n",
       " 'red footwear': 50176,\n",
       " 'red bowtie': 50065,\n",
       " 'bondage': 50011,\n",
       " 'furry': 49977,\n",
       " 'shoulder armor': 49871,\n",
       " 'messy hair': 49835,\n",
       " 'holding cup': 49752,\n",
       " 'horse tail': 49661,\n",
       " 'tan': 49656,\n",
       " 'green skirt': 49641,\n",
       " 'goggles': 49569,\n",
       " 'all fours': 49524,\n",
       " 'hair bobbles': 49433,\n",
       " 'lipstick': 49386,\n",
       " 'brooch': 49369,\n",
       " 'short twintails': 49286,\n",
       " 'building': 48949,\n",
       " 'black headwear': 48902,\n",
       " 'polearm': 48839,\n",
       " 'fishnets': 48761,\n",
       " 'black bra': 48732,\n",
       " 'otoko no ko': 48518,\n",
       " 'staff': 48363,\n",
       " '1other': 48253,\n",
       " 'shaded face': 48098,\n",
       " 'group sex': 47996,\n",
       " 'loafers': 47747,\n",
       " 'straight hair': 47730,\n",
       " 'crescent': 47494,\n",
       " 'star (sky)': 47335,\n",
       " 'towel': 47310,\n",
       " 'letterboxed': 47303,\n",
       " 'feathered wings': 47231,\n",
       " 'cherry blossoms': 47126,\n",
       " 'bandaid': 46963,\n",
       " 'single thighhigh': 46907,\n",
       " 'clenched hand': 46835,\n",
       " 'pink dress': 46733,\n",
       " 'strapless leotard': 46551,\n",
       " 'box': 46505,\n",
       " 'kiss': 46477,\n",
       " 'grey shirt': 46357,\n",
       " '^^^': 46167,\n",
       " 'black necktie': 46140,\n",
       " 'hat bow': 46101,\n",
       " 'facing viewer': 46006,\n",
       " 'extra ears': 45834,\n",
       " 'hooded jacket': 45658,\n",
       " 'eyewear on head': 45610,\n",
       " 'yellow background': 45606,\n",
       " 'no pants': 45571,\n",
       " 'multiple tails': 45491,\n",
       " 'demon tail': 45459,\n",
       " 'drooling': 45424,\n",
       " 'steam': 45388,\n",
       " 'bike shorts': 45348,\n",
       " 'armband': 45336,\n",
       " 'wind': 45195,\n",
       " 'dog ears': 45049,\n",
       " 'butterfly': 44956,\n",
       " 'instrument': 44788,\n",
       " 'night sky': 44737,\n",
       " 'casual': 44684,\n",
       " 'foreshortening': 44549,\n",
       " 'child': 44376,\n",
       " 'panty pull': 44297,\n",
       " 'pale skin': 44282,\n",
       " 'white ribbon': 44155,\n",
       " 'gauntlets': 44112,\n",
       " 'revealing clothes': 44112,\n",
       " 'rope': 44046,\n",
       " 'surprised': 44026,\n",
       " 'candy': 44012,\n",
       " 'knees up': 44012,\n",
       " 'sheath': 43971,\n",
       " 'china dress': 43878,\n",
       " 'adapted costume': 43849,\n",
       " 'breast press': 43844,\n",
       " 'ribbon trim': 43839,\n",
       " 'multicolored clothes': 43832,\n",
       " 'sex toy': 43830,\n",
       " 'cover page': 43680,\n",
       " 'colored inner hair': 43446,\n",
       " 'pink panties': 43413,\n",
       " 'red background': 43305,\n",
       " 'between breasts': 43137,\n",
       " 'wristband': 43126,\n",
       " 'hakama': 43002,\n",
       " 'puffy long sleeves': 42877,\n",
       " 'eyebrows': 42788,\n",
       " 'wet clothes': 42783,\n",
       " 'couch': 42781,\n",
       " 'hair over shoulder': 42691,\n",
       " 'blouse': 42647,\n",
       " 'skin fang': 42587,\n",
       " 'anal': 42471,\n",
       " 'musical note': 42378,\n",
       " 'veil': 42340,\n",
       " 'scenery': 42149,\n",
       " 'arms behind head': 42094,\n",
       " 'red jacket': 42084,\n",
       " 'red nails': 41994,\n",
       " 'genderswap': 41828,\n",
       " 'nature': 41749,\n",
       " 'breath': 41711,\n",
       " 'lace trim': 41675,\n",
       " 'scar on face': 41611,\n",
       " 'pink flower': 41610,\n",
       " 'side braid': 41592,\n",
       " 'covering privates': 41445,\n",
       " 'third eye': 41424,\n",
       " 'mole under mouth': 41411,\n",
       " 'light blush': 41371,\n",
       " 'waist apron': 41299,\n",
       " 'male pubic hair': 41293,\n",
       " 'smartphone': 41208,\n",
       " 'pelvic curtain': 41023,\n",
       " 'large pectorals': 41019,\n",
       " 'strapless dress': 41006,\n",
       " 'microphone': 40950,\n",
       " 'ejaculation': 40709,\n",
       " '...': 40655,\n",
       " 'skirt set': 40534,\n",
       " 'christmas': 40530,\n",
       " 'areolae': 40451,\n",
       " 'light particles': 40426,\n",
       " 'facial': 40395,\n",
       " 'anger vein': 40351,\n",
       " 'beard': 40237,\n",
       " 'baseball cap': 40110,\n",
       " 'claws': 40060,\n",
       " 'string bikini': 39921,\n",
       " 'interlocked fingers': 39898,\n",
       " 'web address': 39880,\n",
       " 'striped panties': 39680,\n",
       " 'toenails': 39469,\n",
       " 'bridal gauntlets': 39345,\n",
       " 'cloak': 39341,\n",
       " 'breasts apart': 39169,\n",
       " 'index finger raised': 39137,\n",
       " 'highleg leotard': 39092,\n",
       " 'peaked cap': 39058,\n",
       " 'red neckerchief': 38843,\n",
       " 'white pupils': 38642,\n",
       " 'purple dress': 38481,\n",
       " 'low ponytail': 38390,\n",
       " 'white headwear': 38372,\n",
       " 'glowing eyes': 38286,\n",
       " 'short hair with long locks': 38235,\n",
       " 'white pantyhose': 38016,\n",
       " 'semi-rimless eyewear': 37963,\n",
       " 'side-tie panties': 37927,\n",
       " 'two-tone background': 37885,\n",
       " 'jingle bell': 37742,\n",
       " 'grey skirt': 37729,\n",
       " 'convenient censoring': 37619,\n",
       " 'hand fan': 37418,\n",
       " 'motor vehicle': 37399,\n",
       " 'mecha': 37247,\n",
       " 'buckle': 37240,\n",
       " 'bow panties': 37192,\n",
       " 'front-tie top': 37155,\n",
       " 'twin drills': 37108,\n",
       " 'carrying': 37029,\n",
       " 'pink nails': 37028,\n",
       " 'clothes writing': 37005,\n",
       " 'hair flaps': 36984,\n",
       " 'areola slip': 36961,\n",
       " 'pom pom (clothes)': 36898,\n",
       " 'maid apron': 36796,\n",
       " 'sleeves past fingers': 36725,\n",
       " 'yellow bow': 36722,\n",
       " 'hood up': 36688,\n",
       " 'forehead': 36659,\n",
       " 'micro bikini': 36619,\n",
       " 'androgynous': 36351,\n",
       " 'neck bell': 36346,\n",
       " 'corset': 36340,\n",
       " 'blue nails': 36336,\n",
       " 'angry': 36226,\n",
       " 'hand on own face': 36221,\n",
       " 'wolf tail': 36193,\n",
       " 'black belt': 36161,\n",
       " 'close-up': 36044,\n",
       " 'clothing aside': 35955,\n",
       " 'skin tight': 35954,\n",
       " 'cum on breasts': 35895,\n",
       " 'o-ring': 35883,\n",
       " 'holding phone': 35759,\n",
       " 'eyeshadow': 35719,\n",
       " 'rifle': 35599,\n",
       " 'french braid': 35543,\n",
       " 'cropped jacket': 35461,\n",
       " 'white sleeves': 35447,\n",
       " 'meme': 35433,\n",
       " 'hakama skirt': 35426,\n",
       " 'lace': 35374,\n",
       " 'outside border': 35335,\n",
       " 'spoken heart': 35332,\n",
       " 'low-tied long hair': 35313,\n",
       " 'cropped legs': 35222,\n",
       " 'tentacles': 35188,\n",
       " 'no headwear': 35144,\n",
       " 'crossed bangs': 35139,\n",
       " 'tokin hat': 34982,\n",
       " 'eye contact': 34917,\n",
       " 'curvy': 34906,\n",
       " 'brown gloves': 34815,\n",
       " 'paizuri': 34790,\n",
       " 'plate': 34719,\n",
       " 'red gloves': 34685,\n",
       " ':<': 34673,\n",
       " 'black wings': 34567,\n",
       " 'faceless': 34531,\n",
       " 'restrained': 34495,\n",
       " 'bikini top only': 34463,\n",
       " 'snow': 34456,\n",
       " 'colored sclera': 34438,\n",
       " 'black coat': 34428,\n",
       " 'spikes': 34402,\n",
       " 'full moon': 34401,\n",
       " 'mary janes': 34372,\n",
       " 'tearing up': 34317,\n",
       " 'side slit': 34308,\n",
       " 'gift': 34272,\n",
       " 'science fiction': 34249,\n",
       " 'holding book': 34212,\n",
       " 'alternate breast size': 34133,\n",
       " 'blue bikini': 34130,\n",
       " 'licking': 34118,\n",
       " 'patreon username': 34089,\n",
       " ':p': 34054,\n",
       " 'camisole': 34033,\n",
       " 'finger to mouth': 33661,\n",
       " 'desk': 33608,\n",
       " 'strap slip': 33538,\n",
       " 'ball': 33403,\n",
       " 'armlet': 33292,\n",
       " 'green bow': 33141,\n",
       " 'arm at side': 33049,\n",
       " 'lens flare': 33034,\n",
       " 'single horn': 32959,\n",
       " 'dragon horns': 32871,\n",
       " 'gold trim': 32851,\n",
       " 'blue flower': 32783,\n",
       " 'blue necktie': 32780,\n",
       " 'floating': 32708,\n",
       " 'sleeves rolled up': 32686,\n",
       " 'hair scrunchie': 32668,\n",
       " 'genderswap (mtf)': 32643,\n",
       " 'drinking glass': 32608,\n",
       " 'seiza': 32498,\n",
       " 'white sailor collar': 32480,\n",
       " 'black sailor collar': 32455,\n",
       " 'pink skirt': 32400,\n",
       " 'light purple hair': 32321,\n",
       " 'single glove': 32304,\n",
       " 'pink ribbon': 32290,\n",
       " 'santa hat': 32234,\n",
       " 'after sex': 32216,\n",
       " 'wading': 32203,\n",
       " 'puffy nipples': 32170,\n",
       " 'knee up': 32116,\n",
       " 'clenched hands': 32048,\n",
       " 'half updo': 32001,\n",
       " 'smoke': 31986,\n",
       " 'wide hips': 31949,\n",
       " 'between legs': 31927,\n",
       " 'handgun': 31926,\n",
       " 'zipper': 31887,\n",
       " 'tareme': 31870,\n",
       " 'brown background': 31865,\n",
       " 'veins': 31847,\n",
       " 'open coat': 31816,\n",
       " 'starry sky': 31779,\n",
       " 'demon wings': 31709,\n",
       " 'blue shorts': 31546,\n",
       " 'tsurime': 31518,\n",
       " 'dual persona': 31487,\n",
       " 'heavy breathing': 31484,\n",
       " 'pendant': 31479,\n",
       " 'single earring': 31441,\n",
       " 'happy birthday': 31430,\n",
       " 'freckles': 31430,\n",
       " 'green background': 31405,\n",
       " 'pink shirt': 31401,\n",
       " 'pencil skirt': 31398,\n",
       " 'outline': 31351,\n",
       " 'topless male': 31332,\n",
       " 'track jacket': 31248,\n",
       " 'fish': 31187,\n",
       " 'ribbed sweater': 31181,\n",
       " 'high heel boots': 31156,\n",
       " 'alcohol': 31107,\n",
       " 'frilled apron': 31104,\n",
       " 'cowgirl position': 31044,\n",
       " 'spot color': 30851,\n",
       " 'purple background': 30851,\n",
       " 'sweater vest': 30768,\n",
       " 'masturbation': 30752,\n",
       " 'tray': 30738,\n",
       " 'cross-laced footwear': 30636,\n",
       " 'asymmetrical legwear': 30620,\n",
       " 'arm behind back': 30515,\n",
       " 'swim ring': 30477,\n",
       " 'handjob': 30458,\n",
       " 'black vest': 30400,\n",
       " 'clothed female nude male': 30344,\n",
       " 'headset': 30300,\n",
       " '!': 30249,\n",
       " 'reflection': 30179,\n",
       " 'frilled bikini': 30124,\n",
       " 'forest': 30093,\n",
       " 'upskirt': 30021,\n",
       " 'white skin': 30004,\n",
       " 'hair rings': 29967,\n",
       " 'cake': 29941,\n",
       " 'mature male': 29908,\n",
       " 'pocket': 29898,\n",
       " 'legs up': 29886,\n",
       " 'beads': 29865,\n",
       " 'partially submerged': 29784,\n",
       " 'one-hour drawing challenge': 29705,\n",
       " 'vertical-striped clothes': 29672,\n",
       " 'clothed sex': 29498,\n",
       " 'personification': 29465,\n",
       " 'bulge': 29455,\n",
       " 'backlighting': 29383,\n",
       " 'green dress': 29332,\n",
       " 'walking': 29309,\n",
       " 'long fingernails': 29246,\n",
       " 'unworn headwear': 29215,\n",
       " 'frilled shirt collar': 29198,\n",
       " 'halloween': 29170,\n",
       " 'legs apart': 29134,\n",
       " 'dress lift': 29122,\n",
       " 'toned': 29066,\n",
       " 'black-framed eyewear': 28971,\n",
       " 'arm behind head': 28953,\n",
       " 'round eyewear': 28863,\n",
       " 'brown pantyhose': 28847,\n",
       " 'purple bow': 28824,\n",
       " 'mole on breast': 28787,\n",
       " 'broom': 28693,\n",
       " 'high-waist skirt': 28693,\n",
       " 'pouch': 28658,\n",
       " 'long skirt': 28645,\n",
       " 'short ponytail': 28637,\n",
       " 'thong': 28628,\n",
       " 'condom': 28612,\n",
       " 'crossdressing': 28581,\n",
       " 'red bikini': 28571,\n",
       " 'blue footwear': 28534,\n",
       " 'cropped torso': 28528,\n",
       " 'crying with eyes open': 28483,\n",
       " 'out of frame': 28467,\n",
       " 'angel wings': 28422,\n",
       " 'cuffs': 28299,\n",
       " 'dot nose': 28191,\n",
       " 'one eye covered': 28191,\n",
       " 'white bra': 28160,\n",
       " 'black bowtie': 28158,\n",
       " 'yellow shirt': 28147,\n",
       " 'purple skirt': 28122,\n",
       " 'gym uniform': 28086,\n",
       " 'rain': 28083,\n",
       " 'hand in own hair': 28033,\n",
       " 'goggles on head': 27946,\n",
       " 'bubble': 27900,\n",
       " 'flying': 27793,\n",
       " 'red-framed eyewear': 27760,\n",
       " 'epaulettes': 27750,\n",
       " 'cumdrip': 27640,\n",
       " 'curly hair': 27592,\n",
       " 'age difference': 27520,\n",
       " 'high collar': 27520,\n",
       " 'brown jacket': 27497,\n",
       " ...}"
      ]
     },
     "execution_count": 6,
     "metadata": {},
     "output_type": "execute_result"
    }
   ],
   "source": [
    "def get_count_map(column_name: str):\n",
    "    count_map = {}\n",
    "\n",
    "    for text in tqdm(ds[column_name]):\n",
    "        if text is None:\n",
    "            continue\n",
    "        for tag in text.split(\", \"):\n",
    "            if tag not in count_map:\n",
    "                count_map[tag] = 1\n",
    "            count_map[tag] += 1\n",
    "\n",
    "    count_map = {\n",
    "        k: v for k, v in sorted(count_map.items(), key=lambda x: x[1], reverse=True)\n",
    "    }\n",
    "    return count_map\n",
    "\n",
    "\n",
    "general_tags_count_map = get_count_map(\"general\")\n",
    "save_to_json(general_tags_count_map, \"../data/general_tags_count_map.json\")\n",
    "general_tags_count_map"
   ]
  },
  {
   "cell_type": "code",
   "execution_count": 8,
   "metadata": {},
   "outputs": [],
   "source": [
    "# cached data\n",
    "general_tags_count_map = load_from_json(\"../data/general_tags_count_map.json\")"
   ]
  },
  {
   "cell_type": "markdown",
   "metadata": {},
   "source": [
    "### plot the distribution of counts"
   ]
  },
  {
   "cell_type": "markdown",
   "metadata": {},
   "source": [
    "#### general"
   ]
  },
  {
   "cell_type": "code",
   "execution_count": 9,
   "metadata": {},
   "outputs": [],
   "source": [
    "# plot the distribution of counts\n",
    "general_tags_counts = [count for name, count in general_tags_count_map.items()]"
   ]
  },
  {
   "cell_type": "code",
   "execution_count": 10,
   "metadata": {},
   "outputs": [
    {
     "data": {
      "text/plain": [
       "5071347"
      ]
     },
     "execution_count": 10,
     "metadata": {},
     "output_type": "execute_result"
    }
   ],
   "source": [
    "general_tags_counts[0]"
   ]
  },
  {
   "cell_type": "code",
   "execution_count": 11,
   "metadata": {},
   "outputs": [
    {
     "data": {
      "text/plain": [
       "74574"
      ]
     },
     "execution_count": 11,
     "metadata": {},
     "output_type": "execute_result"
    }
   ],
   "source": [
    "len(general_tags_counts)"
   ]
  },
  {
   "cell_type": "code",
   "execution_count": 12,
   "metadata": {},
   "outputs": [
    {
     "data": {
      "image/png": "[encoded data removed]",
      "text/plain": [
       "<Figure size 640x480 with 1 Axes>"
      ]
     },
     "metadata": {},
     "output_type": "display_data"
    }
   ],
   "source": [
    "plt.hist(general_tags_counts, bins=100, range=(1, 1000))\n",
    "# plt.yscale(\"log\")\n",
    "plt.xlabel(\"Count\")\n",
    "plt.ylabel(\"Frequency\")\n",
    "plt.title(\"Distribution of general tags counts\")\n",
    "plt.show()"
   ]
  },
  {
   "cell_type": "code",
   "execution_count": 14,
   "metadata": {},
   "outputs": [
    {
     "data": {
      "text/plain": [
       "6789"
      ]
     },
     "execution_count": 14,
     "metadata": {},
     "output_type": "execute_result"
    }
   ],
   "source": [
    "popular_general_tags = [\n",
    "    name for name, count in general_tags_count_map.items() if count > 1000\n",
    "]\n",
    "save_to_json(popular_general_tags, \"../data/popular_general_tags.json\")\n",
    "len(popular_general_tags)"
   ]
  },
  {
   "cell_type": "markdown",
   "metadata": {},
   "source": [
    "### show distribution of tags score"
   ]
  },
  {
   "cell_type": "code",
   "execution_count": 107,
   "metadata": {},
   "outputs": [
    {
     "data": {
      "application/vnd.jupyter.widget-view+json": {
       "model_id": "73e6c39b4b4c420f90bbb12255d86612",
       "version_major": 2,
       "version_minor": 0
      },
      "text/plain": [
       "Filter:   0%|          | 0/7124975 [00:00<?, ? examples/s]"
      ]
     },
     "metadata": {},
     "output_type": "display_data"
    },
    {
     "data": {
      "application/vnd.jupyter.widget-view+json": {
       "model_id": "5bcde56962cc4a7eb24439c7d9014a4a",
       "version_major": 2,
       "version_minor": 0
      },
      "text/plain": [
       "Filter:   0%|          | 0/7124975 [00:00<?, ? examples/s]"
      ]
     },
     "metadata": {},
     "output_type": "display_data"
    },
    {
     "data": {
      "application/vnd.jupyter.widget-view+json": {
       "model_id": "d8b8bb855e3e41e2861ca229a661c028",
       "version_major": 2,
       "version_minor": 0
      },
      "text/plain": [
       "Filter:   0%|          | 0/7124975 [00:00<?, ? examples/s]"
      ]
     },
     "metadata": {},
     "output_type": "display_data"
    },
    {
     "data": {
      "application/vnd.jupyter.widget-view+json": {
       "model_id": "def81f21852840539db973ef63715c44",
       "version_major": 2,
       "version_minor": 0
      },
      "text/plain": [
       "Filter:   0%|          | 0/7124975 [00:00<?, ? examples/s]"
      ]
     },
     "metadata": {},
     "output_type": "display_data"
    }
   ],
   "source": [
    "# get scores by rating\n",
    "post_scores_rating_general = ds.filter(lambda x: x[\"rating\"] == \"g\", batched=False)[\n",
    "    \"score\"\n",
    "]\n",
    "post_scores_rating_sensitive = ds.filter(lambda x: x[\"rating\"] == \"s\", batched=False)[\n",
    "    \"score\"\n",
    "]\n",
    "post_scores_rating_questionable = ds.filter(\n",
    "    lambda x: x[\"rating\"] == \"q\", batched=False\n",
    ")[\"score\"]\n",
    "post_scores_rating_explicit = ds.filter(lambda x: x[\"rating\"] == \"e\", batched=False)[\n",
    "    \"score\"\n",
    "]"
   ]
  },
  {
   "cell_type": "code",
   "execution_count": 111,
   "metadata": {},
   "outputs": [
    {
     "name": "stdout",
     "output_type": "stream",
     "text": [
      "687358\n",
      "882858\n",
      "3951666\n",
      "1603093\n"
     ]
    }
   ],
   "source": [
    "print(len(post_scores_rating_explicit))\n",
    "print(len(post_scores_rating_questionable))\n",
    "print(len(post_scores_rating_sensitive))\n",
    "print(len(post_scores_rating_general))"
   ]
  },
  {
   "cell_type": "code",
   "execution_count": 110,
   "metadata": {},
   "outputs": [
    {
     "data": {
      "image/png": "[encoded data removed]",
      "text/plain": [
       "<Figure size 640x480 with 1 Axes>"
      ]
     },
     "metadata": {},
     "output_type": "display_data"
    }
   ],
   "source": [
    "# plot all scores\n",
    "plt.hist(post_scores_rating_explicit, bins=100, range=(0, 1000), alpha=0.5, label=\"e\")\n",
    "plt.hist(\n",
    "    post_scores_rating_questionable, bins=100, range=(0, 1000), alpha=0.5, label=\"q\"\n",
    ")\n",
    "plt.hist(post_scores_rating_sensitive, bins=100, range=(0, 1000), alpha=0.5, label=\"s\")\n",
    "plt.hist(post_scores_rating_general, bins=100, range=(0, 1000), alpha=0.5, label=\"g\")\n",
    "plt.legend()\n",
    "plt.xlabel(\"Score\")\n",
    "plt.ylabel(\"Frequency\")\n",
    "plt.yscale(\"log\")\n",
    "plt.title(\"Distribution of scores by rating\")\n",
    "plt.show()"
   ]
  },
  {
   "cell_type": "code",
   "execution_count": 126,
   "metadata": {},
   "outputs": [
    {
     "data": {
      "image/png": "[encoded data removed]",
      "text/plain": [
       "<Figure size 640x480 with 1 Axes>"
      ]
     },
     "metadata": {},
     "output_type": "display_data"
    }
   ],
   "source": [
    "# boxplot\n",
    "plt.boxplot(\n",
    "    [\n",
    "        post_scores_rating_explicit,\n",
    "        post_scores_rating_questionable,\n",
    "        post_scores_rating_sensitive,\n",
    "        post_scores_rating_general,\n",
    "    ],\n",
    "    labels=[\n",
    "        \"e\",\n",
    "        \"q\",\n",
    "        \"s\",\n",
    "        \"g\",\n",
    "    ],\n",
    ")\n",
    "plt.yscale(\"log\")\n",
    "plt.xlabel(\"Rating\")\n",
    "plt.ylabel(\"Score\")\n",
    "plt.title(\"Boxplot of scores by rating\")\n",
    "plt.grid()\n",
    "plt.show()"
   ]
  },
  {
   "cell_type": "code",
   "execution_count": 117,
   "metadata": {},
   "outputs": [],
   "source": [
    "# sort by score\n",
    "post_scores_rating_explicit.sort()\n",
    "post_scores_rating_questionable.sort()\n",
    "post_scores_rating_sensitive.sort()\n",
    "post_scores_rating_general.sort()"
   ]
  },
  {
   "cell_type": "code",
   "execution_count": 148,
   "metadata": {},
   "outputs": [
    {
     "data": {
      "text/plain": [
       "{'general': [1, 3, 14, 24],\n",
       " 'sensitive': [1, 4, 22, 44],\n",
       " 'questionable': [4, 10, 52, 99],\n",
       " 'explicit': [5, 14, 81, 151]}"
      ]
     },
     "execution_count": 148,
     "metadata": {},
     "output_type": "execute_result"
    }
   ],
   "source": [
    "# group by ratio and get the boundary score of each group\n",
    "# ~ 10%, ~ 25%, ~75%, ~90%\n",
    "\n",
    "\n",
    "def get_boundary_scores(scores):\n",
    "    return [scores[int(len(scores) * ratio)] for ratio in [0.1, 0.25, 0.75, 0.9]]\n",
    "\n",
    "\n",
    "boundary_scores_explicit = get_boundary_scores(post_scores_rating_explicit)\n",
    "boundary_scores_questionable = get_boundary_scores(post_scores_rating_questionable)\n",
    "boundary_scores_sensitive = get_boundary_scores(post_scores_rating_sensitive)\n",
    "boundary_scores_general = get_boundary_scores(post_scores_rating_general)\n",
    "\n",
    "quality_score_map = {\n",
    "    \"general\": boundary_scores_general,\n",
    "    \"sensitive\": boundary_scores_sensitive,\n",
    "    \"questionable\": boundary_scores_questionable,\n",
    "    \"explicit\": boundary_scores_explicit,\n",
    "}\n",
    "save_to_json(quality_score_map, \"./tmp/quality_score_map.json\")\n",
    "quality_score_map"
   ]
  },
  {
   "cell_type": "code",
   "execution_count": 150,
   "metadata": {},
   "outputs": [],
   "source": [
    "def show_each_group_counts(scores, boundary_scores):\n",
    "    counts = [0] * (len(boundary_scores) + 1)\n",
    "    for score in scores:\n",
    "        for i, boundary_score in enumerate(boundary_scores):\n",
    "            if score <= boundary_score:\n",
    "                counts[i] += 1\n",
    "                break\n",
    "        else:\n",
    "            counts[-1] += 1\n",
    "    return counts"
   ]
  },
  {
   "cell_type": "code",
   "execution_count": 153,
   "metadata": {},
   "outputs": [
    {
     "name": "stdout",
     "output_type": "stream",
     "text": [
      "[188322, 239116, 784758, 230657, 160240]\n"
     ]
    }
   ],
   "source": [
    "print(show_each_group_counts(post_scores_rating_general, boundary_scores_general))"
   ]
  },
  {
   "cell_type": "code",
   "execution_count": 154,
   "metadata": {},
   "outputs": [
    {
     "name": "stdout",
     "output_type": "stream",
     "text": [
      "[429991, 683759, 1880060, 565512, 392344]\n"
     ]
    }
   ],
   "source": [
    "print(show_each_group_counts(post_scores_rating_sensitive, boundary_scores_sensitive))"
   ]
  },
  {
   "cell_type": "code",
   "execution_count": 155,
   "metadata": {},
   "outputs": [
    {
     "name": "stdout",
     "output_type": "stream",
     "text": [
      "[102755, 130558, 430707, 131044, 87794]\n"
     ]
    }
   ],
   "source": [
    "print(\n",
    "    show_each_group_counts(\n",
    "        post_scores_rating_questionable, boundary_scores_questionable\n",
    "    )\n",
    ")"
   ]
  },
  {
   "cell_type": "code",
   "execution_count": 157,
   "metadata": {},
   "outputs": [
    {
     "name": "stdout",
     "output_type": "stream",
     "text": [
      "[76615, 100853, 339210, 102541, 68139]\n"
     ]
    }
   ],
   "source": [
    "print(show_each_group_counts(post_scores_rating_explicit, boundary_scores_explicit))"
   ]
  },
  {
   "cell_type": "markdown",
   "metadata": {},
   "source": [
    "## Gather tokens"
   ]
  },
  {
   "cell_type": "markdown",
   "metadata": {},
   "source": [
    "### Prepare special tokens"
   ]
  },
  {
   "cell_type": "code",
   "execution_count": 15,
   "metadata": {},
   "outputs": [],
   "source": [
    "BOS_TOKEN = \"<|bos|>\"\n",
    "EOS_TOKEN = \"<|eos|>\"\n",
    "PAD_TOKEN = \"<|pad|>\"\n",
    "UNK_TOKEN = \"<|unk|>\"\n",
    "SEP_TOKEN = \"<|sep|>\"\n",
    "MASK_TOKEN = \"<|mask|>\"\n",
    "\n",
    "# group\n",
    "RATING_START = \"<rating>\"\n",
    "RATING_END = \"</rating>\"\n",
    "GENERAL_START = \"<general>\"\n",
    "GENERAL_END = \"</general>\"\n",
    "CHARACTER_START = \"<character>\"\n",
    "CHARACTER_END = \"</character>\"\n",
    "COPYRIGHT_START = \"<copyright>\"\n",
    "COPYRIGHT_END = \"</copyright>\"\n",
    "\n",
    "# rating\n",
    "RATING_SFW = \"rating:sfw\"\n",
    "RATING_NSFW = \"rating:nsfw\"\n",
    "RATING_GENERAL = \"rating:general\"\n",
    "RATING_SENSITIVE = \"rating:sensitive\"\n",
    "RATING_QUESTIONABLE = \"rating:questionable\"\n",
    "RATING_EXPLICIT = \"rating:explicit\"\n",
    "\n",
    "# quality\n",
    "QUALITY_BEST = \"<|best_quality|>\"\n",
    "QUALITY_HIGH = \"<|high_quality|>\"\n",
    "QUALITY_NORMAL = \"<|normal_quality|>\"\n",
    "QUALITY_LOW = \"<|low_quality|>\"\n",
    "QUALITY_WORST = \"<|worst_quality|>\"\n",
    "\n",
    "# total tags length\n",
    "LENGTH_VERY_SHORT = \"<|very_short|>\"\n",
    "LENGTH_SHORT = \"<|short|>\"\n",
    "LENGTH_MEDIUM = \"<|medium|>\"\n",
    "LENGTH_LONG = \"<|long|>\"\n",
    "LENGTH_VERY_LONG = \"<|very_long|>\"\n",
    "\n",
    "# aspect ratio\n",
    "ASPECT_RATIO_ULTRA_WIDE = \"<|ultra_wide|>\"\n",
    "ASPECT_RATIO_WIDE = \"<|wide|>\"\n",
    "ASPECT_RATIO_SQUARE = \"<|square|>\"\n",
    "ASPECT_RATIO_TALL = \"<|tall|>\"\n",
    "ASPECT_RATIO_ULTRA_TALL = \"<|ultra_tall|>\"\n",
    "\n",
    "# for SFT\n",
    "INPUT_START = \"<|input_start|>\"\n",
    "INPUT_END = \"<|input_end|>\"\n",
    "\n",
    "# flags\n",
    "FLAG_KEEP_IDENTITY = \"<|keep_identity|>\""
   ]
  },
  {
   "cell_type": "code",
   "execution_count": 16,
   "metadata": {},
   "outputs": [],
   "source": [
    "RESERVED_TOKENS = [f\"<|reserved_{i}|>\" for i in range(32)]"
   ]
  },
  {
   "cell_type": "code",
   "execution_count": 17,
   "metadata": {},
   "outputs": [
    {
     "data": {
      "text/plain": [
       "38"
      ]
     },
     "execution_count": 17,
     "metadata": {},
     "output_type": "execute_result"
    }
   ],
   "source": [
    "SPECIAL_TOKENS = [\n",
    "    BOS_TOKEN,\n",
    "    EOS_TOKEN,\n",
    "    PAD_TOKEN,\n",
    "    UNK_TOKEN,\n",
    "    SEP_TOKEN,\n",
    "    MASK_TOKEN,\n",
    "    # not used in debertav2 tokenizer\n",
    "    # #\n",
    "    # RATING_START,\n",
    "    # RATING_END,\n",
    "    # GENERAL_START,\n",
    "    # GENERAL_END,\n",
    "    # CHARACTER_START,\n",
    "    # CHARACTER_END,\n",
    "    # #\n",
    "    # RATING_SFW,\n",
    "    # RATING_NSFW,\n",
    "    # RATING_GENERAL,\n",
    "    # RATING_SENSITIVE,\n",
    "    # RATING_QUESTIONABLE,\n",
    "    # RATING_EXPLICIT,\n",
    "    # #\n",
    "    # QUALITY_BEST,\n",
    "    # QUALITY_HIGH,\n",
    "    # QUALITY_NORMAL,\n",
    "    # QUALITY_LOW,\n",
    "    # QUALITY_WORST,\n",
    "    # #\n",
    "    # LENGTH_VERY_SHORT,\n",
    "    # LENGTH_SHORT,\n",
    "    # LENGTH_MEDIUM,\n",
    "    # LENGTH_MEDIUM,\n",
    "    # LENGTH_LONG,\n",
    "    # LENGTH_VERY_LONG,\n",
    "    # #\n",
    "    # ASPECT_RATIO_ULTRA_WIDE,\n",
    "    # ASPECT_RATIO_WIDE,\n",
    "    # ASPECT_RATIO_SQUARE,\n",
    "    # ASPECT_RATIO_TALL,\n",
    "    # ASPECT_RATIO_ULTRA_TALL,\n",
    "    # #\n",
    "    # INPUT_START,\n",
    "    # INPUT_END,\n",
    "    # #\n",
    "    # FLAG_KEEP_IDENTITY,\n",
    "    # #\n",
    "    *RESERVED_TOKENS,\n",
    "]\n",
    "len(SPECIAL_TOKENS)"
   ]
  },
  {
   "cell_type": "markdown",
   "metadata": {},
   "source": [
    "### Prepare general/character/copyright tags"
   ]
  },
  {
   "cell_type": "code",
   "execution_count": 18,
   "metadata": {},
   "outputs": [],
   "source": [
    "GENERAL_TAG_TOKENS = popular_general_tags\n",
    "# CHARACTER_TAG_TOKENS = popular_character_tags\n",
    "# COPYRIGHT_TAG_TOKENS = popular_copyright_tags"
   ]
  },
  {
   "cell_type": "markdown",
   "metadata": {},
   "source": [
    "### All"
   ]
  },
  {
   "cell_type": "code",
   "execution_count": 19,
   "metadata": {},
   "outputs": [],
   "source": [
    "ALL_TOKENS = [\n",
    "    *SPECIAL_TOKENS,\n",
    "    *GENERAL_TAG_TOKENS,\n",
    "    # *CHARACTER_TAG_TOKENS,\n",
    "    # *COPYRIGHT_TAG_TOKENS,\n",
    "]"
   ]
  },
  {
   "cell_type": "markdown",
   "metadata": {},
   "source": [
    "## Create a tokenizer!"
   ]
  },
  {
   "cell_type": "code",
   "execution_count": 20,
   "metadata": {},
   "outputs": [],
   "source": [
    "tokenizer = Tokenizer(\n",
    "    # 頭から順番に番号をつける\n",
    "    WordLevel(vocab={tag: i for i, tag in enumerate(ALL_TOKENS)}, unk_token=UNK_TOKEN)\n",
    ")"
   ]
  },
  {
   "cell_type": "code",
   "execution_count": 21,
   "metadata": {},
   "outputs": [],
   "source": [
    "tokenizer.normalizer = Lowercase()"
   ]
  },
  {
   "cell_type": "code",
   "execution_count": 22,
   "metadata": {},
   "outputs": [],
   "source": [
    "tokenizer.pre_tokenizer = Split(\n",
    "    pattern=Regex(r\",(?:\\s)*\"), behavior=\"removed\", invert=False\n",
    ")"
   ]
  },
  {
   "cell_type": "code",
   "execution_count": 23,
   "metadata": {},
   "outputs": [
    {
     "data": {
      "text/plain": [
       "38"
      ]
     },
     "execution_count": 23,
     "metadata": {},
     "output_type": "execute_result"
    }
   ],
   "source": [
    "# register special tokens\n",
    "tokenizer.add_special_tokens(\n",
    "    [\n",
    "        AddedToken(\n",
    "            content=token,\n",
    "        )\n",
    "        for token in SPECIAL_TOKENS\n",
    "    ]\n",
    ")"
   ]
  },
  {
   "cell_type": "code",
   "execution_count": 24,
   "metadata": {},
   "outputs": [],
   "source": [
    "# padding\n",
    "tokenizer.enable_padding(pad_token=PAD_TOKEN)"
   ]
  },
  {
   "cell_type": "code",
   "execution_count": 25,
   "metadata": {},
   "outputs": [
    {
     "data": {
      "text/plain": [
       "6827"
      ]
     },
     "execution_count": 25,
     "metadata": {},
     "output_type": "execute_result"
    }
   ],
   "source": [
    "tokenizer.get_vocab_size()"
   ]
  },
  {
   "cell_type": "markdown",
   "metadata": {},
   "source": [
    "#### Test tokenizer"
   ]
  },
  {
   "cell_type": "code",
   "execution_count": 26,
   "metadata": {},
   "outputs": [
    {
     "data": {
      "text/plain": [
       "['1girl',\n",
       " '2girls',\n",
       " '<|unk|>',\n",
       " 'long hair',\n",
       " 'very long hair',\n",
       " '<|unk|>',\n",
       " '<|unk|>',\n",
       " '<|unk|>']"
      ]
     },
     "execution_count": 26,
     "metadata": {},
     "output_type": "execute_result"
    }
   ],
   "source": [
    "tokenizer.encode(\n",
    "    \"1girl, 2girls, aaa, long hair, very long hair, honkai: star rail, arknights, hogeeeeeeeee\",\n",
    ").tokens"
   ]
  },
  {
   "cell_type": "code",
   "execution_count": null,
   "metadata": {},
   "outputs": [],
   "source": [
    "# save if you want\n",
    "# tokenizer.save(\"./tmp/tokenizer.json\")"
   ]
  },
  {
   "cell_type": "markdown",
   "metadata": {},
   "source": [
    "#### Transformers tokenizer format"
   ]
  },
  {
   "cell_type": "code",
   "execution_count": 27,
   "metadata": {},
   "outputs": [],
   "source": [
    "pretrained_tokenizer = PreTrainedTokenizerFast(tokenizer_object=tokenizer)\n",
    "\n",
    "pretrained_tokenizer.bos_token = BOS_TOKEN\n",
    "pretrained_tokenizer.eos_token = EOS_TOKEN\n",
    "pretrained_tokenizer.pad_token = PAD_TOKEN\n",
    "pretrained_tokenizer.unk_token = UNK_TOKEN\n",
    "pretrained_tokenizer.mask_token = MASK_TOKEN"
   ]
  },
  {
   "cell_type": "code",
   "execution_count": 28,
   "metadata": {},
   "outputs": [
    {
     "data": {
      "text/plain": [
       "{'input_ids': [38, 188, 85, 379], 'token_type_ids': [0, 0, 0, 0], 'attention_mask': [1, 1, 1, 1]}"
      ]
     },
     "execution_count": 28,
     "metadata": {},
     "output_type": "execute_result"
    }
   ],
   "source": [
    "pretrained_tokenizer.encode_plus(\"1girl, cat ears, blue hair, swept bangs\")"
   ]
  },
  {
   "cell_type": "code",
   "execution_count": 29,
   "metadata": {},
   "outputs": [
    {
     "data": {
      "text/plain": [
       "CommitInfo(commit_url='https://huggingface.co/p1atdev/dart-popular-general-tags-tokenizer/commit/ad0c3e90ccdaae97044453a54337f06fb5d84df8', commit_message='Upload tokenizer', commit_description='', oid='ad0c3e90ccdaae97044453a54337f06fb5d84df8', pr_url=None, pr_revision=None, pr_num=None)"
      ]
     },
     "execution_count": 29,
     "metadata": {},
     "output_type": "execute_result"
    }
   ],
   "source": [
    "pretrained_tokenizer.push_to_hub(\"p1atdev/dart-popular-general-tags-tokenizer\")"
   ]
  }
 ],
 "metadata": {
  "kernelspec": {
   "display_name": "py310",
   "language": "python",
   "name": "python3"
  },
  "language_info": {
   "codemirror_mode": {
    "name": "ipython",
    "version": 3
   },
   "file_extension": ".py",
   "mimetype": "text/x-python",
   "name": "python",
   "nbconvert_exporter": "python",
   "pygments_lexer": "ipython3",
   "version": "3.10.10"
  }
 },
 "nbformat": 4,
 "nbformat_minor": 2
}
