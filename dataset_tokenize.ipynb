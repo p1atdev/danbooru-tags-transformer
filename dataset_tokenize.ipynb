{
 "cells": [
  {
   "cell_type": "code",
   "execution_count": 1,
   "metadata": {},
   "outputs": [],
   "source": [
    "import json\n",
    "from datasets import load_dataset, Dataset, load_from_disk\n",
    "from transformers import AutoTokenizer\n",
    "from tqdm import tqdm\n",
    "import numpy as np"
   ]
  },
  {
   "cell_type": "code",
   "execution_count": 2,
   "metadata": {},
   "outputs": [],
   "source": [
    "CACHE_DIR = \"/huggingface/cache\"\n",
    "\n",
    "TOKENIZER_NAME = \"./dart-tokenizer-20240219\"\n",
    "\n",
    "DATASET_NAME = \"isek-ai/danbooru-tags-2023\""
   ]
  },
  {
   "cell_type": "code",
   "execution_count": 3,
   "metadata": {},
   "outputs": [],
   "source": [
    "tokenizer = AutoTokenizer.from_pretrained(\n",
    "    TOKENIZER_NAME, trust_remote_code=True, cache_dir=CACHE_DIR\n",
    ")"
   ]
  },
  {
   "cell_type": "code",
   "execution_count": 4,
   "metadata": {},
   "outputs": [
    {
     "data": {
      "text/plain": [
       "Dataset({\n",
       "    features: ['id', 'copyright', 'character', 'artist', 'general', 'meta', 'rating', 'score', 'created_at'],\n",
       "    num_rows: 6574149\n",
       "})"
      ]
     },
     "execution_count": 4,
     "metadata": {},
     "output_type": "execute_result"
    }
   ],
   "source": [
    "ds = load_dataset(DATASET_NAME, name=\"all\", split=\"train\", cache_dir=CACHE_DIR)\n",
    "ds"
   ]
  },
  {
   "cell_type": "markdown",
   "metadata": {},
   "source": [
    "## Simple filtering\n"
   ]
  },
  {
   "cell_type": "code",
   "execution_count": 5,
   "metadata": {},
   "outputs": [
    {
     "data": {
      "text/plain": [
       "Dataset({\n",
       "    features: ['id', 'copyright', 'character', 'artist', 'general', 'meta', 'rating', 'score', 'created_at'],\n",
       "    num_rows: 6574005\n",
       "})"
      ]
     },
     "execution_count": 5,
     "metadata": {},
     "output_type": "execute_result"
    }
   ],
   "source": [
    "ds = ds.filter(lambda x: x[\"general\"] is not None, batched=False)\n",
    "ds"
   ]
  },
  {
   "cell_type": "markdown",
   "metadata": {},
   "source": [
    "## Remove not popular tags\n"
   ]
  },
  {
   "cell_type": "code",
   "execution_count": 6,
   "metadata": {},
   "outputs": [],
   "source": [
    "def load_tags(path: str):\n",
    "    with open(path, \"r\", encoding=\"utf-8\") as file:\n",
    "        tags_txt = file.read()\n",
    "    tags = tags_txt.split(\"\\n\")\n",
    "    return tags\n",
    "\n",
    "\n",
    "general_general = load_tags(\"./popular-tags/general-general.txt\")\n",
    "general_sensitive = load_tags(\"./popular-tags/general-sensitive.txt\")\n",
    "general_questionable = load_tags(\"./popular-tags/general-questionable.txt\")\n",
    "general_explicit = load_tags(\"./popular-tags/general-explicit.txt\")\n",
    "\n",
    "character_tags = load_tags(\"./popular-tags/character.txt\")\n",
    "copyright_tags = load_tags(\"./popular-tags/copyright.txt\")\n",
    "\n",
    "all_general_tags = (\n",
    "    general_general + general_sensitive + general_questionable + general_explicit\n",
    ")"
   ]
  },
  {
   "cell_type": "code",
   "execution_count": 8,
   "metadata": {},
   "outputs": [
    {
     "data": {
      "text/plain": [
       "Dataset({\n",
       "    features: ['id', 'copyright', 'character', 'artist', 'general', 'meta', 'rating', 'score', 'created_at'],\n",
       "    num_rows: 6574005\n",
       "})"
      ]
     },
     "execution_count": 8,
     "metadata": {},
     "output_type": "execute_result"
    }
   ],
   "source": [
    "ds"
   ]
  },
  {
   "cell_type": "code",
   "execution_count": 9,
   "metadata": {},
   "outputs": [
    {
     "data": {
      "application/vnd.jupyter.widget-view+json": {
       "model_id": "60bb36545f25477e82be3a3072f41585",
       "version_major": 2,
       "version_minor": 0
      },
      "text/plain": [
       "Filter:   0%|          | 0/6574005 [00:00<?, ? examples/s]"
      ]
     },
     "metadata": {},
     "output_type": "display_data"
    },
    {
     "data": {
      "text/plain": [
       "Dataset({\n",
       "    features: ['id', 'copyright', 'character', 'artist', 'general', 'meta', 'rating', 'score', 'created_at'],\n",
       "    num_rows: 5312968\n",
       "})"
      ]
     },
     "execution_count": 9,
     "metadata": {},
     "output_type": "execute_result"
    }
   ],
   "source": [
    "def not_have_unpopular_tags(examples):\n",
    "    flags = [True for _ in examples[\"id\"]]\n",
    "\n",
    "    # for i, general in enumerate(examples[\"general\"]):\n",
    "    #     new_tags = []\n",
    "    #     for tag in general.split(\", \"):\n",
    "    #         if tag in all_general_tags:\n",
    "    #             new_tags.append(tag)\n",
    "    #     examples[\"general\"][i] = \", \".join(new_tags)\n",
    "\n",
    "    for i, copyright in enumerate(examples[\"copyright\"]):\n",
    "        if copyright is None:\n",
    "            continue\n",
    "\n",
    "        for tag in copyright.split(\", \"):\n",
    "            if tag not in copyright_tags:\n",
    "                flags[i] = False\n",
    "\n",
    "    for i, character in enumerate(examples[\"character\"]):\n",
    "        if character is None:\n",
    "            continue\n",
    "\n",
    "        if flags[i]:\n",
    "            for tag in character.split(\", \"):\n",
    "                if tag not in character_tags:\n",
    "                    flags[i] = False\n",
    "                    continue\n",
    "\n",
    "    return flags\n",
    "\n",
    "\n",
    "ds = ds.filter(not_have_unpopular_tags, batched=True)\n",
    "ds"
   ]
  },
  {
   "cell_type": "markdown",
   "metadata": {},
   "source": [
    "## Remove bad tags\n"
   ]
  },
  {
   "cell_type": "code",
   "execution_count": 10,
   "metadata": {},
   "outputs": [],
   "source": [
    "from tag_manager import TagManger"
   ]
  },
  {
   "cell_type": "code",
   "execution_count": 11,
   "metadata": {},
   "outputs": [],
   "source": [
    "tag_manager = TagManger()"
   ]
  },
  {
   "cell_type": "code",
   "execution_count": 12,
   "metadata": {},
   "outputs": [
    {
     "data": {
      "application/vnd.jupyter.widget-view+json": {
       "model_id": "434cff53928e4a82a1f872b722f5b481",
       "version_major": 2,
       "version_minor": 0
      },
      "text/plain": [
       "Map:   0%|          | 0/5312968 [00:00<?, ? examples/s]"
      ]
     },
     "metadata": {},
     "output_type": "display_data"
    },
    {
     "data": {
      "text/plain": [
       "Dataset({\n",
       "    features: ['id', 'copyright', 'character', 'artist', 'general', 'meta', 'rating', 'score', 'created_at'],\n",
       "    num_rows: 5312968\n",
       "})"
      ]
     },
     "execution_count": 12,
     "metadata": {},
     "output_type": "execute_result"
    }
   ],
   "source": [
    "def remove_bad_tags(examples):\n",
    "    for i, general in enumerate(examples[\"general\"]):\n",
    "        new_tags = []\n",
    "        for tag in general.split(\", \"):\n",
    "            if not tag_manager.should_remove(tag):\n",
    "                new_tags.append(tag)\n",
    "        examples[\"general\"][i] = \", \".join(new_tags)\n",
    "\n",
    "    return examples\n",
    "\n",
    "\n",
    "ds = ds.map(remove_bad_tags, batched=True)\n",
    "ds"
   ]
  },
  {
   "cell_type": "markdown",
   "metadata": {},
   "source": [
    "## Inspect tag counts\n"
   ]
  },
  {
   "cell_type": "code",
   "execution_count": 13,
   "metadata": {},
   "outputs": [],
   "source": [
    "import matplotlib.pyplot as plt"
   ]
  },
  {
   "cell_type": "code",
   "execution_count": 14,
   "metadata": {},
   "outputs": [
    {
     "data": {
      "application/vnd.jupyter.widget-view+json": {
       "model_id": "ade2fd7ebc4c4fd3887ec0405fbcd4db",
       "version_major": 2,
       "version_minor": 0
      },
      "text/plain": [
       "Map:   0%|          | 0/5312968 [00:00<?, ? examples/s]"
      ]
     },
     "metadata": {},
     "output_type": "display_data"
    },
    {
     "data": {
      "text/plain": [
       "Dataset({\n",
       "    features: ['id', 'copyright', 'character', 'artist', 'general', 'meta', 'rating', 'score', 'created_at'],\n",
       "    num_rows: 5312968\n",
       "})"
      ]
     },
     "execution_count": 14,
     "metadata": {},
     "output_type": "execute_result"
    }
   ],
   "source": [
    "general_tags_counts = []\n",
    "\n",
    "ds.map(\n",
    "    lambda x: general_tags_counts.append(len(x[\"general\"].split(\", \"))), batched=False\n",
    ")"
   ]
  },
  {
   "cell_type": "code",
   "execution_count": 15,
   "metadata": {},
   "outputs": [
    {
     "data": {
      "text/plain": [
       "479"
      ]
     },
     "execution_count": 15,
     "metadata": {},
     "output_type": "execute_result"
    }
   ],
   "source": [
    "max(general_tags_counts)"
   ]
  },
  {
   "cell_type": "code",
   "execution_count": 16,
   "metadata": {},
   "outputs": [
    {
     "data": {
      "text/plain": [
       "1"
      ]
     },
     "execution_count": 16,
     "metadata": {},
     "output_type": "execute_result"
    }
   ],
   "source": [
    "min(general_tags_counts)"
   ]
  },
  {
   "cell_type": "code",
   "execution_count": 17,
   "metadata": {},
   "outputs": [
    {
     "data": {
      "image/png": "[encoded data removed]",
      "text/plain": [
       "<Figure size 640x480 with 1 Axes>"
      ]
     },
     "metadata": {},
     "output_type": "display_data"
    }
   ],
   "source": [
    "plt.hist(general_tags_counts, bins=200)\n",
    "plt.xlim([0, 100])\n",
    "plt.show()"
   ]
  },
  {
   "cell_type": "code",
   "execution_count": 18,
   "metadata": {},
   "outputs": [
    {
     "data": {
      "application/vnd.jupyter.widget-view+json": {
       "model_id": "9199b41f77f64e358e3b46979ce50749",
       "version_major": 2,
       "version_minor": 0
      },
      "text/plain": [
       "Map:   0%|          | 0/5312968 [00:00<?, ? examples/s]"
      ]
     },
     "metadata": {},
     "output_type": "display_data"
    },
    {
     "data": {
      "text/plain": [
       "Dataset({\n",
       "    features: ['id', 'copyright', 'character', 'artist', 'general', 'meta', 'rating', 'score', 'created_at'],\n",
       "    num_rows: 5312968\n",
       "})"
      ]
     },
     "execution_count": 18,
     "metadata": {},
     "output_type": "execute_result"
    }
   ],
   "source": [
    "copyright_tags_counts = []\n",
    "\n",
    "ds.map(\n",
    "    lambda x: copyright_tags_counts.append(\n",
    "        len(x[\"copyright\"].split(\", \")) if x[\"copyright\"] is not None else 0\n",
    "    ),\n",
    "    batched=False,\n",
    ")"
   ]
  },
  {
   "cell_type": "code",
   "execution_count": 19,
   "metadata": {},
   "outputs": [
    {
     "data": {
      "text/plain": [
       "51"
      ]
     },
     "execution_count": 19,
     "metadata": {},
     "output_type": "execute_result"
    }
   ],
   "source": [
    "max(copyright_tags_counts)"
   ]
  },
  {
   "cell_type": "code",
   "execution_count": 20,
   "metadata": {},
   "outputs": [],
   "source": [
    "import numpy as np"
   ]
  },
  {
   "cell_type": "code",
   "execution_count": 21,
   "metadata": {},
   "outputs": [
    {
     "data": {
      "text/plain": [
       "1.3197037889179832"
      ]
     },
     "execution_count": 21,
     "metadata": {},
     "output_type": "execute_result"
    }
   ],
   "source": [
    "np.average(copyright_tags_counts)"
   ]
  },
  {
   "cell_type": "code",
   "execution_count": 22,
   "metadata": {},
   "outputs": [
    {
     "data": {
      "image/png": "[encoded data removed]",
      "text/plain": [
       "<Figure size 640x480 with 1 Axes>"
      ]
     },
     "metadata": {},
     "output_type": "display_data"
    }
   ],
   "source": [
    "plt.hist(copyright_tags_counts, bins=200)\n",
    "plt.xlim([0, 20])\n",
    "plt.show()"
   ]
  },
  {
   "cell_type": "code",
   "execution_count": 23,
   "metadata": {},
   "outputs": [
    {
     "data": {
      "application/vnd.jupyter.widget-view+json": {
       "model_id": "665792ce587546a2bc8e040cd5a1e64d",
       "version_major": 2,
       "version_minor": 0
      },
      "text/plain": [
       "Map:   0%|          | 0/5312968 [00:00<?, ? examples/s]"
      ]
     },
     "metadata": {},
     "output_type": "display_data"
    },
    {
     "data": {
      "text/plain": [
       "Dataset({\n",
       "    features: ['id', 'copyright', 'character', 'artist', 'general', 'meta', 'rating', 'score', 'created_at'],\n",
       "    num_rows: 5312968\n",
       "})"
      ]
     },
     "execution_count": 23,
     "metadata": {},
     "output_type": "execute_result"
    }
   ],
   "source": [
    "character_tags_counts = []\n",
    "\n",
    "ds.map(\n",
    "    lambda x: character_tags_counts.append(\n",
    "        len(x[\"character\"].split(\", \")) if x[\"character\"] is not None else 0\n",
    "    ),\n",
    "    batched=False,\n",
    ")"
   ]
  },
  {
   "cell_type": "code",
   "execution_count": 24,
   "metadata": {},
   "outputs": [
    {
     "data": {
      "text/plain": [
       "179"
      ]
     },
     "execution_count": 24,
     "metadata": {},
     "output_type": "execute_result"
    }
   ],
   "source": [
    "max(character_tags_counts)"
   ]
  },
  {
   "cell_type": "code",
   "execution_count": 25,
   "metadata": {},
   "outputs": [
    {
     "data": {
      "text/plain": [
       "1.3975932096711292"
      ]
     },
     "execution_count": 25,
     "metadata": {},
     "output_type": "execute_result"
    }
   ],
   "source": [
    "np.average(character_tags_counts)"
   ]
  },
  {
   "cell_type": "code",
   "execution_count": 26,
   "metadata": {},
   "outputs": [
    {
     "data": {
      "image/png": "[encoded data removed]",
      "text/plain": [
       "<Figure size 640x480 with 1 Axes>"
      ]
     },
     "metadata": {},
     "output_type": "display_data"
    }
   ],
   "source": [
    "plt.hist(character_tags_counts, bins=200)\n",
    "plt.xlim([0, 40])\n",
    "plt.show()"
   ]
  },
  {
   "cell_type": "markdown",
   "metadata": {},
   "source": [
    "## Filter tags by counts\n"
   ]
  },
  {
   "cell_type": "code",
   "execution_count": 27,
   "metadata": {},
   "outputs": [
    {
     "data": {
      "application/vnd.jupyter.widget-view+json": {
       "model_id": "02ffd1c10ff24a0686d3e2d82a9232a3",
       "version_major": 2,
       "version_minor": 0
      },
      "text/plain": [
       "Filter:   0%|          | 0/5312968 [00:00<?, ? examples/s]"
      ]
     },
     "metadata": {},
     "output_type": "display_data"
    },
    {
     "data": {
      "text/plain": [
       "Dataset({\n",
       "    features: ['id', 'copyright', 'character', 'artist', 'general', 'meta', 'rating', 'score', 'created_at'],\n",
       "    num_rows: 5307251\n",
       "})"
      ]
     },
     "execution_count": 27,
     "metadata": {},
     "output_type": "execute_result"
    }
   ],
   "source": [
    "# remove\n",
    "# general > 100\n",
    "# copyright > 5\n",
    "# character > 10\n",
    "\n",
    "ds = ds.filter(lambda x: len(x[\"general\"].split(\", \")) <= 100, batched=False)\n",
    "ds"
   ]
  },
  {
   "cell_type": "code",
   "execution_count": 28,
   "metadata": {},
   "outputs": [
    {
     "data": {
      "application/vnd.jupyter.widget-view+json": {
       "model_id": "3cff095725414a4f8a8d3e67f7a18921",
       "version_major": 2,
       "version_minor": 0
      },
      "text/plain": [
       "Filter:   0%|          | 0/5307251 [00:00<?, ? examples/s]"
      ]
     },
     "metadata": {},
     "output_type": "display_data"
    },
    {
     "data": {
      "text/plain": [
       "Dataset({\n",
       "    features: ['id', 'copyright', 'character', 'artist', 'general', 'meta', 'rating', 'score', 'created_at'],\n",
       "    num_rows: 5302522\n",
       "})"
      ]
     },
     "execution_count": 28,
     "metadata": {},
     "output_type": "execute_result"
    }
   ],
   "source": [
    "ds = ds.filter(\n",
    "    lambda x: (\n",
    "        len(x[\"copyright\"].split(\", \")) <= 5 if x[\"copyright\"] is not None else True\n",
    "    ),\n",
    "    batched=False,\n",
    ")\n",
    "ds"
   ]
  },
  {
   "cell_type": "code",
   "execution_count": 29,
   "metadata": {},
   "outputs": [
    {
     "data": {
      "application/vnd.jupyter.widget-view+json": {
       "model_id": "61fdad3ab54c42fa89e759d029e40ec9",
       "version_major": 2,
       "version_minor": 0
      },
      "text/plain": [
       "Filter:   0%|          | 0/5302522 [00:00<?, ? examples/s]"
      ]
     },
     "metadata": {},
     "output_type": "display_data"
    },
    {
     "data": {
      "text/plain": [
       "Dataset({\n",
       "    features: ['id', 'copyright', 'character', 'artist', 'general', 'meta', 'rating', 'score', 'created_at'],\n",
       "    num_rows: 5293004\n",
       "})"
      ]
     },
     "execution_count": 29,
     "metadata": {},
     "output_type": "execute_result"
    }
   ],
   "source": [
    "ds = ds.filter(\n",
    "    lambda x: (\n",
    "        len(x[\"character\"].split(\", \")) <= 10 if x[\"character\"] is not None else True\n",
    "    ),\n",
    "    batched=False,\n",
    ")\n",
    "ds"
   ]
  },
  {
   "cell_type": "markdown",
   "metadata": {},
   "source": [
    "## Save filtered tags\n"
   ]
  },
  {
   "cell_type": "code",
   "execution_count": 30,
   "metadata": {},
   "outputs": [
    {
     "data": {
      "application/vnd.jupyter.widget-view+json": {
       "model_id": "3eb72a0c73534247988125cdea51ccca",
       "version_major": 2,
       "version_minor": 0
      },
      "text/plain": [
       "Saving the dataset (0/6 shards):   0%|          | 0/5293004 [00:00<?, ? examples/s]"
      ]
     },
     "metadata": {},
     "output_type": "display_data"
    }
   ],
   "source": [
    "ds.save_to_disk(\"danbooru-tags-filtered-20240219\")"
   ]
  },
  {
   "cell_type": "markdown",
   "metadata": {},
   "source": [
    "## Concat tags\n"
   ]
  },
  {
   "cell_type": "code",
   "execution_count": null,
   "metadata": {},
   "outputs": [],
   "source": [
    "ds = load_from_disk(\"./danbooru-tags-filtered-20240219\")"
   ]
  },
  {
   "cell_type": "code",
   "execution_count": 31,
   "metadata": {},
   "outputs": [],
   "source": [
    "rating_map = {\n",
    "    \"g\": \"rating:general\",\n",
    "    \"s\": \"rating:sensitive\",\n",
    "    \"q\": \"rating:questionable\",\n",
    "    \"e\": \"rating:questionable\",\n",
    "}\n",
    "\n",
    "rating_parent_tag_map = {\n",
    "    \"g\": \"rating:sfw\",\n",
    "    \"s\": \"rating:sfw\",\n",
    "    \"q\": \"rating:nsfw\",\n",
    "    \"e\": \"rating:nsfw\",\n",
    "}"
   ]
  },
  {
   "cell_type": "code",
   "execution_count": 32,
   "metadata": {},
   "outputs": [],
   "source": [
    "assert all(\n",
    "    [\n",
    "        tokenizer.convert_tokens_to_ids(token) != tokenizer.unk_token\n",
    "        for token in list(rating_map.values()) + list(rating_parent_tag_map.values())\n",
    "    ]\n",
    ")"
   ]
  },
  {
   "cell_type": "code",
   "execution_count": 33,
   "metadata": {},
   "outputs": [],
   "source": [
    "BOS = \"<|bos|>\"\n",
    "EOS = \"<|eos|>\"\n",
    "\n",
    "RATING_BOS = \"<rating>\"\n",
    "RATING_EOS = \"</rating>\"\n",
    "\n",
    "COPYRIGHT_BOS = \"<copyright>\"\n",
    "COPYRIGHT_EOS = \"</copyright>\"\n",
    "\n",
    "CHARACTER_BOS = \"<character>\"\n",
    "CHARACTER_EOS = \"</character>\"\n",
    "\n",
    "GENERAL_BOS = \"<general>\"\n",
    "GENERAL_EOS = \"</general>\""
   ]
  },
  {
   "cell_type": "code",
   "execution_count": 34,
   "metadata": {},
   "outputs": [],
   "source": [
    "assert all(\n",
    "    [\n",
    "        tokenizer.convert_tokens_to_ids(token) != tokenizer.unk_token\n",
    "        for token in [\n",
    "            BOS,\n",
    "            EOS,\n",
    "            RATING_BOS,\n",
    "            RATING_EOS,\n",
    "            COPYRIGHT_BOS,\n",
    "            COPYRIGHT_EOS,\n",
    "            CHARACTER_BOS,\n",
    "            CHARACTER_EOS,\n",
    "            GENERAL_BOS,\n",
    "            GENERAL_EOS,\n",
    "        ]\n",
    "    ]\n",
    ")"
   ]
  },
  {
   "cell_type": "code",
   "execution_count": 35,
   "metadata": {},
   "outputs": [
    {
     "data": {
      "text/plain": [
       "Dataset({\n",
       "    features: ['id', 'copyright', 'character', 'artist', 'general', 'meta', 'rating', 'score', 'created_at'],\n",
       "    num_rows: 5293004\n",
       "})"
      ]
     },
     "execution_count": 35,
     "metadata": {},
     "output_type": "execute_result"
    }
   ],
   "source": [
    "ds"
   ]
  },
  {
   "cell_type": "code",
   "execution_count": 36,
   "metadata": {},
   "outputs": [
    {
     "data": {
      "application/vnd.jupyter.widget-view+json": {
       "model_id": "47c0f01f6ef84a7e919ca18688bd451b",
       "version_major": 2,
       "version_minor": 0
      },
      "text/plain": [
       "Map:   0%|          | 0/5293004 [00:00<?, ? examples/s]"
      ]
     },
     "metadata": {},
     "output_type": "display_data"
    },
    {
     "data": {
      "text/plain": [
       "Dataset({\n",
       "    features: ['id', 'copyright', 'character', 'artist', 'general', 'meta', 'rating', 'score', 'created_at', 'tag_text'],\n",
       "    num_rows: 5293004\n",
       "})"
      ]
     },
     "execution_count": 36,
     "metadata": {},
     "output_type": "execute_result"
    }
   ],
   "source": [
    "def concat_tags(examples):\n",
    "    all_tags = []\n",
    "\n",
    "    for i, _ in enumerate(examples[\"id\"]):\n",
    "        rating = examples[\"rating\"][i]\n",
    "        copyright = examples[\"copyright\"][i]\n",
    "        character = examples[\"character\"][i]\n",
    "        general = examples[\"general\"][i]\n",
    "\n",
    "        assert rating is not None\n",
    "        assert general is not None\n",
    "\n",
    "        rating, rating_parent = rating_map[rating], rating_parent_tag_map[rating]\n",
    "\n",
    "        if copyright is None:\n",
    "            copyright = \"\"\n",
    "        if character is None:\n",
    "            character = \"\"\n",
    "\n",
    "        tag_text = \"\".join(\n",
    "            [\n",
    "                BOS,\n",
    "                RATING_BOS,\n",
    "                rating_parent,\n",
    "                \", \",\n",
    "                rating,\n",
    "                RATING_EOS,\n",
    "                COPYRIGHT_BOS,\n",
    "                copyright,\n",
    "                COPYRIGHT_EOS,\n",
    "                CHARACTER_BOS,\n",
    "                character,\n",
    "                CHARACTER_EOS,\n",
    "                GENERAL_BOS,\n",
    "                general,\n",
    "                GENERAL_EOS,\n",
    "                EOS,\n",
    "            ]\n",
    "        )\n",
    "        all_tags.append(tag_text)\n",
    "\n",
    "    return {\"tag_text\": all_tags}\n",
    "\n",
    "\n",
    "ds = ds.map(concat_tags, batched=True)\n",
    "ds"
   ]
  },
  {
   "cell_type": "code",
   "execution_count": 37,
   "metadata": {},
   "outputs": [
    {
     "data": {
      "text/plain": [
       "['<|bos|><rating>rating:nsfw, rating:questionable</rating><copyright></copyright><character></character><general>1boy, 1girl, :|, ;d, age difference, bat wings, bath, bathing, bathroom, bathtub, black eyes, black hair, blue eyes, bored, censored, cheek squash, closed mouth, collarbone, completely nude, cowboy shot, demon girl, demon tail, dutch angle, female pubic hair, flat chest, frottage, happy, hetero, horns, indoors, loli, looking at another, looking at viewer, mini wings, mixed-sex bathing, mosaic censoring, naughty face, navel, nipples, nude, one eye closed, open mouth, outstretched arm, pink hair, pointy ears, pubic hair, pussy, shared bathing, short hair, smile, soap bubbles, sparse pubic hair, steam, sweatdrop, tail, two side up, wet, wings</general><|eos|>',\n",
       " '<|bos|><rating>rating:nsfw, rating:questionable</rating><copyright>slayers</copyright><character>lina inverse, naga the serpent</character><general>2girls, 69, ass, back, blue eyes, blush, breasts, circlet, closed eyes, cunnilingus, earrings, female pubic hair, hug, jewelry, large breasts, leg grab, long hair, multiple girls, nipples, nude, oral, orange hair, pubic hair, purple hair, pussy, red eyes, rotational symmetry, small breasts, tongue, yuri, zoom layer</general><|eos|>',\n",
       " \"<|bos|><rating>rating:nsfw, rating:questionable</rating><copyright></copyright><character></character><general>1boy, 1girl, black hair, black thighhighs, blush, breasts, censored, cum, facial, fellatio, from side, garter belt, half-closed eyes, hand on another's head, hanging breasts, hetero, incest, inverted nipples, large breasts, lingerie, mature female, mosaic censoring, mother and son, nipples, oral, penis, short hair, squatting, teeth, thighhighs, tiptoes, topless, underwear</general><|eos|>\",\n",
       " '<|bos|><rating>rating:nsfw, rating:questionable</rating><copyright>yotsubato!</copyright><character>ayase ena, koiwai yotsuba</character><general>1boy, 2girls, banknote, blush, clothes lift, compensated molestation, empty eyes, hetero, holding, holding money, lifted by self, loli, molestation, money, multiple girls, navel, no panties, o_o, oekaki, pinky out, public indecency, quad tails, raglan sleeves, skirt, skirt lift, surprised</general><|eos|>',\n",
       " \"<|bos|><rating>rating:nsfw, rating:questionable</rating><copyright>fate/stay night, fate (series)</copyright><character>matou sakura, medusa (fate), medusa (rider) (fate)</character><general>2girls, bare shoulders, blue hair, blush, breasts, collar, dress, elbow gloves, facial mark, forehead mark, gloves, hand on another's face, hug, hug from behind, large breasts, licking, licking another's neck, long hair, long sleeves, multiple girls, oekaki, purple hair, red background, slit pupils, strapless, strapless dress, very long hair, yuri</general><|eos|>\"]"
      ]
     },
     "execution_count": 37,
     "metadata": {},
     "output_type": "execute_result"
    }
   ],
   "source": [
    "ds[\"tag_text\"][:5]"
   ]
  },
  {
   "cell_type": "code",
   "execution_count": 38,
   "metadata": {},
   "outputs": [
    {
     "data": {
      "application/vnd.jupyter.widget-view+json": {
       "model_id": "d7ddb9d1b5794b0c8c47aee627a342fe",
       "version_major": 2,
       "version_minor": 0
      },
      "text/plain": [
       "Saving the dataset (0/11 shards):   0%|          | 0/5293004 [00:00<?, ? examples/s]"
      ]
     },
     "metadata": {},
     "output_type": "display_data"
    }
   ],
   "source": [
    "ds.save_to_disk(\"./danbooru-tagtext-20240219\")"
   ]
  },
  {
   "cell_type": "markdown",
   "metadata": {},
   "source": [
    "## Tokenize\n"
   ]
  },
  {
   "cell_type": "code",
   "execution_count": 4,
   "metadata": {},
   "outputs": [
    {
     "data": {
      "text/plain": [
       "Dataset({\n",
       "    features: ['id', 'copyright', 'character', 'artist', 'general', 'meta', 'rating', 'score', 'created_at', 'tag_text'],\n",
       "    num_rows: 6524302\n",
       "})"
      ]
     },
     "execution_count": 4,
     "metadata": {},
     "output_type": "execute_result"
    }
   ],
   "source": [
    "ds = load_from_disk(\"./danbooru-tagtext-20240219\")\n",
    "ds"
   ]
  },
  {
   "cell_type": "code",
   "execution_count": 39,
   "metadata": {},
   "outputs": [
    {
     "data": {
      "text/plain": [
       "{'input_ids': [0, 4, 49, 46, 5, 6, 3252, 931, 7, 8, 12129, 3, 14631, 9, 10, 60268, 61285, 38967, 39211, 47069, 50914, 58886, 55184, 42984, 32162, 55932, 45343, 25530, 28649, 59997, 24239, 66120, 51088, 46454, 18581, 19188, 65308, 65393, 27019, 67294, 53925, 31442, 21535, 67510, 29954, 32664, 49077, 40333, 45530, 43500, 40044, 32039, 32815, 67386, 36057, 11, 1], 'token_type_ids': [0, 0, 0, 0, 0, 0, 0, 0, 0, 0, 0, 0, 0, 0, 0, 0, 0, 0, 0, 0, 0, 0, 0, 0, 0, 0, 0, 0, 0, 0, 0, 0, 0, 0, 0, 0, 0, 0, 0, 0, 0, 0, 0, 0, 0, 0, 0, 0, 0, 0, 0, 0, 0, 0, 0, 0, 0], 'attention_mask': [1, 1, 1, 1, 1, 1, 1, 1, 1, 1, 1, 1, 1, 1, 1, 1, 1, 1, 1, 1, 1, 1, 1, 1, 1, 1, 1, 1, 1, 1, 1, 1, 1, 1, 1, 1, 1, 1, 1, 1, 1, 1, 1, 1, 1, 1, 1, 1, 1, 1, 1, 1, 1, 1, 1, 1, 1]}"
      ]
     },
     "execution_count": 39,
     "metadata": {},
     "output_type": "execute_result"
    }
   ],
   "source": [
    "tokenizer(\n",
    "    \"<|bos|><rating>rating:nsfw, rating:questionable</rating><copyright>dragon quest, dragon quest v</copyright><character>hero's daughter (dq5), king slime, slime (dragon quest)</character><general>1girl, :d, ^_^, ass, bestiality, black eyes, blob, blonde hair, blue skin, blush, boots, bow, closed eyes, clothes lift, colored skin, crown, dress, dress lift, female orgasm, full body, gloves, hair bow, hat, head back, loli, no panties, open mouth, orgasm, rape, see-through, see-through body, short dress, simple background, sketch, smile, solo, tears, top-down bottom-up, vaginal, wince</general><|eos|>\",\n",
    ")"
   ]
  },
  {
   "cell_type": "code",
   "execution_count": 40,
   "metadata": {},
   "outputs": [
    {
     "data": {
      "text/plain": [
       "['id',\n",
       " 'copyright',\n",
       " 'character',\n",
       " 'artist',\n",
       " 'general',\n",
       " 'meta',\n",
       " 'rating',\n",
       " 'score',\n",
       " 'created_at']"
      ]
     },
     "execution_count": 40,
     "metadata": {},
     "output_type": "execute_result"
    }
   ],
   "source": [
    "column_names = ds.column_names\n",
    "column_names.remove(\"tag_text\")\n",
    "column_names"
   ]
  },
  {
   "cell_type": "code",
   "execution_count": 42,
   "metadata": {},
   "outputs": [
    {
     "data": {
      "application/vnd.jupyter.widget-view+json": {
       "model_id": "89cdbb7ee8714128a61f336d6609123b",
       "version_major": 2,
       "version_minor": 0
      },
      "text/plain": [
       "Map:   0%|          | 0/5293004 [00:00<?, ? examples/s]"
      ]
     },
     "metadata": {},
     "output_type": "display_data"
    },
    {
     "data": {
      "text/plain": [
       "Dataset({\n",
       "    features: ['tag_text', 'input_ids', 'token_type_ids', 'attention_mask'],\n",
       "    num_rows: 5293004\n",
       "})"
      ]
     },
     "execution_count": 42,
     "metadata": {},
     "output_type": "execute_result"
    }
   ],
   "source": [
    "def tokenize_text(examples):\n",
    "    tokenized = tokenizer(examples[\"tag_text\"])\n",
    "    input_ids = tokenized.input_ids\n",
    "\n",
    "    # check not to have unknown copyright or character tags\n",
    "    for i, token_ids in enumerate(input_ids):\n",
    "        unk_token_idx = [\n",
    "            i for i, x in enumerate(token_ids) if x == tokenizer.unk_token_id\n",
    "        ]\n",
    "        general_bos_idx = token_ids.index(10)\n",
    "\n",
    "        if any([unk < general_bos_idx for unk in unk_token_idx]):\n",
    "            raise Exception(\"unk before general!\")\n",
    "\n",
    "    input_ids = [  # remove unk token\n",
    "        [token_id for token_id in item if token_id != tokenizer.unk_token_id]\n",
    "        for item in input_ids\n",
    "    ]\n",
    "\n",
    "    return {**tokenized}\n",
    "\n",
    "\n",
    "ds = ds.map(tokenize_text, batched=True, remove_columns=column_names)\n",
    "ds"
   ]
  },
  {
   "cell_type": "code",
   "execution_count": 43,
   "metadata": {},
   "outputs": [
    {
     "data": {
      "text/plain": [
       "{'tag_text': '<|bos|><rating>rating:sfw, rating:sensitive</rating><copyright>to heart (series), to heart 2</copyright><character>himeyuri ruri, himeyuri sango, ilfa (to heart)</character><general>3girls, animal ears, bun cover, buruma, cat ears, cat tail, comic, double bun, greyscale, gym uniform, hair bun, monochrome, mouse ears, mouse tail, multiple girls, tail, thighhighs</general><|eos|>',\n",
       " 'input_ids': [0,\n",
       "  4,\n",
       "  48,\n",
       "  45,\n",
       "  5,\n",
       "  6,\n",
       "  499,\n",
       "  2647,\n",
       "  7,\n",
       "  8,\n",
       "  15158,\n",
       "  7845,\n",
       "  4179,\n",
       "  9,\n",
       "  10,\n",
       "  47498,\n",
       "  24847,\n",
       "  23653,\n",
       "  63183,\n",
       "  34279,\n",
       "  29591,\n",
       "  46121,\n",
       "  36792,\n",
       "  43736,\n",
       "  31133,\n",
       "  33982,\n",
       "  56065,\n",
       "  17149,\n",
       "  30195,\n",
       "  18572,\n",
       "  45564,\n",
       "  19477,\n",
       "  11,\n",
       "  1],\n",
       " 'token_type_ids': [0,\n",
       "  0,\n",
       "  0,\n",
       "  0,\n",
       "  0,\n",
       "  0,\n",
       "  0,\n",
       "  0,\n",
       "  0,\n",
       "  0,\n",
       "  0,\n",
       "  0,\n",
       "  0,\n",
       "  0,\n",
       "  0,\n",
       "  0,\n",
       "  0,\n",
       "  0,\n",
       "  0,\n",
       "  0,\n",
       "  0,\n",
       "  0,\n",
       "  0,\n",
       "  0,\n",
       "  0,\n",
       "  0,\n",
       "  0,\n",
       "  0,\n",
       "  0,\n",
       "  0,\n",
       "  0,\n",
       "  0,\n",
       "  0,\n",
       "  0],\n",
       " 'attention_mask': [1,\n",
       "  1,\n",
       "  1,\n",
       "  1,\n",
       "  1,\n",
       "  1,\n",
       "  1,\n",
       "  1,\n",
       "  1,\n",
       "  1,\n",
       "  1,\n",
       "  1,\n",
       "  1,\n",
       "  1,\n",
       "  1,\n",
       "  1,\n",
       "  1,\n",
       "  1,\n",
       "  1,\n",
       "  1,\n",
       "  1,\n",
       "  1,\n",
       "  1,\n",
       "  1,\n",
       "  1,\n",
       "  1,\n",
       "  1,\n",
       "  1,\n",
       "  1,\n",
       "  1,\n",
       "  1,\n",
       "  1,\n",
       "  1,\n",
       "  1]}"
      ]
     },
     "execution_count": 43,
     "metadata": {},
     "output_type": "execute_result"
    }
   ],
   "source": [
    "ds[1000]"
   ]
  },
  {
   "cell_type": "code",
   "execution_count": 44,
   "metadata": {},
   "outputs": [
    {
     "data": {
      "application/vnd.jupyter.widget-view+json": {
       "model_id": "1894256f5c334b7ba97c6f06af05c0e4",
       "version_major": 2,
       "version_minor": 0
      },
      "text/plain": [
       "Saving the dataset (0/9 shards):   0%|          | 0/5293004 [00:00<?, ? examples/s]"
      ]
     },
     "metadata": {},
     "output_type": "display_data"
    }
   ],
   "source": [
    "ds.save_to_disk(\"./danbooru-tokenized-20240219\")"
   ]
  },
  {
   "cell_type": "markdown",
   "metadata": {},
   "source": [
    "### push to hub\n"
   ]
  },
  {
   "cell_type": "code",
   "execution_count": null,
   "metadata": {},
   "outputs": [],
   "source": [
    "ds = load_from_disk(\"./danbooru-tokenized-20240219\")\n",
    "ds"
   ]
  },
  {
   "cell_type": "code",
   "execution_count": 45,
   "metadata": {},
   "outputs": [
    {
     "data": {
      "application/vnd.jupyter.widget-view+json": {
       "model_id": "a4e270b38ce0495ba6133f98bd917c70",
       "version_major": 2,
       "version_minor": 0
      },
      "text/plain": [
       "Uploading the dataset shards:   0%|          | 0/9 [00:00<?, ?it/s]"
      ]
     },
     "metadata": {},
     "output_type": "display_data"
    },
    {
     "data": {
      "application/vnd.jupyter.widget-view+json": {
       "model_id": "fe5d609e812443d1a8591a426b7a3af7",
       "version_major": 2,
       "version_minor": 0
      },
      "text/plain": [
       "Creating parquet from Arrow format:   0%|          | 0/589 [00:00<?, ?ba/s]"
      ]
     },
     "metadata": {},
     "output_type": "display_data"
    },
    {
     "data": {
      "application/vnd.jupyter.widget-view+json": {
       "model_id": "7816e9ff78a748e1a6689b577266b6fa",
       "version_major": 2,
       "version_minor": 0
      },
      "text/plain": [
       "Creating parquet from Arrow format:   0%|          | 0/589 [00:00<?, ?ba/s]"
      ]
     },
     "metadata": {},
     "output_type": "display_data"
    },
    {
     "data": {
      "application/vnd.jupyter.widget-view+json": {
       "model_id": "a0f7b653df7c4454b7ce0df33e09d9f7",
       "version_major": 2,
       "version_minor": 0
      },
      "text/plain": [
       "Creating parquet from Arrow format:   0%|          | 0/589 [00:00<?, ?ba/s]"
      ]
     },
     "metadata": {},
     "output_type": "display_data"
    },
    {
     "data": {
      "application/vnd.jupyter.widget-view+json": {
       "model_id": "3cb80a84f51a43e992be5ae0ed1673a9",
       "version_major": 2,
       "version_minor": 0
      },
      "text/plain": [
       "Creating parquet from Arrow format:   0%|          | 0/589 [00:00<?, ?ba/s]"
      ]
     },
     "metadata": {},
     "output_type": "display_data"
    },
    {
     "data": {
      "application/vnd.jupyter.widget-view+json": {
       "model_id": "969f9b33da4943499099eeb83916ac4d",
       "version_major": 2,
       "version_minor": 0
      },
      "text/plain": [
       "Creating parquet from Arrow format:   0%|          | 0/589 [00:00<?, ?ba/s]"
      ]
     },
     "metadata": {},
     "output_type": "display_data"
    },
    {
     "data": {
      "application/vnd.jupyter.widget-view+json": {
       "model_id": "d8563789b6824edea1f199a5ace9b04e",
       "version_major": 2,
       "version_minor": 0
      },
      "text/plain": [
       "Creating parquet from Arrow format:   0%|          | 0/589 [00:00<?, ?ba/s]"
      ]
     },
     "metadata": {},
     "output_type": "display_data"
    },
    {
     "data": {
      "application/vnd.jupyter.widget-view+json": {
       "model_id": "350a1ec7ed8f41258b6a81752f7e7168",
       "version_major": 2,
       "version_minor": 0
      },
      "text/plain": [
       "Creating parquet from Arrow format:   0%|          | 0/589 [00:00<?, ?ba/s]"
      ]
     },
     "metadata": {},
     "output_type": "display_data"
    },
    {
     "data": {
      "application/vnd.jupyter.widget-view+json": {
       "model_id": "9d4c199a28404baca380210f4d6b013e",
       "version_major": 2,
       "version_minor": 0
      },
      "text/plain": [
       "Creating parquet from Arrow format:   0%|          | 0/589 [00:00<?, ?ba/s]"
      ]
     },
     "metadata": {},
     "output_type": "display_data"
    },
    {
     "data": {
      "application/vnd.jupyter.widget-view+json": {
       "model_id": "343fb61a735c441cb4086c1df683f13e",
       "version_major": 2,
       "version_minor": 0
      },
      "text/plain": [
       "Creating parquet from Arrow format:   0%|          | 0/589 [00:00<?, ?ba/s]"
      ]
     },
     "metadata": {},
     "output_type": "display_data"
    },
    {
     "data": {
      "text/plain": [
       "CommitInfo(commit_url='https://huggingface.co/datasets/p1atdev/dart-tokenized-pretrain-20240219/commit/013e3afc021ce12f418ba510be15cc56716caa85', commit_message='Upload dataset', commit_description='', oid='013e3afc021ce12f418ba510be15cc56716caa85', pr_url=None, pr_revision=None, pr_num=None)"
      ]
     },
     "execution_count": 45,
     "metadata": {},
     "output_type": "execute_result"
    }
   ],
   "source": [
    "ds.push_to_hub(\"p1atdev/dart-tokenized-pretrain-20240219\")"
   ]
  }
 ],
 "metadata": {
  "kernelspec": {
   "display_name": "py310",
   "language": "python",
   "name": "python3"
  },
  "language_info": {
   "codemirror_mode": {
    "name": "ipython",
    "version": 3
   },
   "file_extension": ".py",
   "mimetype": "text/x-python",
   "name": "python",
   "nbconvert_exporter": "python",
   "pygments_lexer": "ipython3",
   "version": "3.10.10"
  }
 },
 "nbformat": 4,
 "nbformat_minor": 2
}
